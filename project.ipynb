{
 "cells": [
  {
   "cell_type": "markdown",
   "metadata": {},
   "source": [
    "# Análisis del comportamiento de usuario"
   ]
  },
  {
   "cell_type": "markdown",
   "metadata": {},
   "source": [
    "## Introducción"
   ]
  },
  {
   "cell_type": "markdown",
   "metadata": {},
   "source": [
    "El análisis se enmarca en una empresa de venta de productos alimenticios. Se está investigando el comportamiento de los usuarios en la aplicación de la misma y también se desea estudiar si un cambio de diseño de la aplicación es conveniente para los usuarios o no. Para analizar dicho cambio se realizó una prueba A/A/B sobre los usuarios de los cuales también se obtuvo el registro de eventos.  \n",
    "\n",
    "Para el estudio se cuenta con datos de eventos en la aplicación, en donde se han incluido también los grupos correspondientes a la prueba A/A/B realizada, datos proporcionados por la empresa."
   ]
  },
  {
   "cell_type": "markdown",
   "metadata": {},
   "source": [
    "## Objeto"
   ]
  },
  {
   "cell_type": "markdown",
   "metadata": {},
   "source": [
    "El análisis tiene como objetivos:  \n",
    "* Estudio del embudo de eventos: cómo los usuarios llegan a la etapa de compra, ¿cuántos usuarios realmente llegan a esta etapa?, ¿cuántos se atascan en etapas anteriores y en cuáles?  \n",
    "* Análisis de prueba A/A/B: determinar cuál tipo de fuente en la aplicación es el preferido por los usuarios, el antiguo o el nuevo."
   ]
  },
  {
   "cell_type": "markdown",
   "metadata": {},
   "source": [
    "## 1. Importación de librerías y dataset"
   ]
  },
  {
   "cell_type": "markdown",
   "metadata": {},
   "source": [
    "Se importan las librerías a utilizar en el análisis, y se lee a continuación el dataset con los datos remitidos por la empresa."
   ]
  },
  {
   "cell_type": "code",
   "execution_count": 70,
   "metadata": {},
   "outputs": [],
   "source": [
    "import pandas as pd\n",
    "import seaborn as sns\n",
    "import matplotlib.pyplot as plt\n",
    "from plotly import graph_objects as go\n",
    "from scipy import stats as st\n",
    "import numpy as np\n",
    "import math as mth"
   ]
  },
  {
   "cell_type": "code",
   "execution_count": 71,
   "metadata": {},
   "outputs": [
    {
     "name": "stdout",
     "output_type": "stream",
     "text": [
      "<class 'pandas.core.frame.DataFrame'>\n",
      "RangeIndex: 244126 entries, 0 to 244125\n",
      "Data columns (total 4 columns):\n",
      " #   Column          Non-Null Count   Dtype \n",
      "---  ------          --------------   ----- \n",
      " 0   EventName       244126 non-null  object\n",
      " 1   DeviceIDHash    244126 non-null  int64 \n",
      " 2   EventTimestamp  244126 non-null  int64 \n",
      " 3   ExpId           244126 non-null  int64 \n",
      "dtypes: int64(3), object(1)\n",
      "memory usage: 7.5+ MB\n",
      "None\n",
      "\n"
     ]
    },
    {
     "data": {
      "text/html": [
       "<div>\n",
       "<style scoped>\n",
       "    .dataframe tbody tr th:only-of-type {\n",
       "        vertical-align: middle;\n",
       "    }\n",
       "\n",
       "    .dataframe tbody tr th {\n",
       "        vertical-align: top;\n",
       "    }\n",
       "\n",
       "    .dataframe thead th {\n",
       "        text-align: right;\n",
       "    }\n",
       "</style>\n",
       "<table border=\"1\" class=\"dataframe\">\n",
       "  <thead>\n",
       "    <tr style=\"text-align: right;\">\n",
       "      <th></th>\n",
       "      <th>EventName</th>\n",
       "      <th>DeviceIDHash</th>\n",
       "      <th>EventTimestamp</th>\n",
       "      <th>ExpId</th>\n",
       "    </tr>\n",
       "  </thead>\n",
       "  <tbody>\n",
       "    <tr>\n",
       "      <th>0</th>\n",
       "      <td>MainScreenAppear</td>\n",
       "      <td>4575588528974610257</td>\n",
       "      <td>1564029816</td>\n",
       "      <td>246</td>\n",
       "    </tr>\n",
       "    <tr>\n",
       "      <th>1</th>\n",
       "      <td>MainScreenAppear</td>\n",
       "      <td>7416695313311560658</td>\n",
       "      <td>1564053102</td>\n",
       "      <td>246</td>\n",
       "    </tr>\n",
       "    <tr>\n",
       "      <th>2</th>\n",
       "      <td>PaymentScreenSuccessful</td>\n",
       "      <td>3518123091307005509</td>\n",
       "      <td>1564054127</td>\n",
       "      <td>248</td>\n",
       "    </tr>\n",
       "    <tr>\n",
       "      <th>3</th>\n",
       "      <td>CartScreenAppear</td>\n",
       "      <td>3518123091307005509</td>\n",
       "      <td>1564054127</td>\n",
       "      <td>248</td>\n",
       "    </tr>\n",
       "    <tr>\n",
       "      <th>4</th>\n",
       "      <td>PaymentScreenSuccessful</td>\n",
       "      <td>6217807653094995999</td>\n",
       "      <td>1564055322</td>\n",
       "      <td>248</td>\n",
       "    </tr>\n",
       "    <tr>\n",
       "      <th>5</th>\n",
       "      <td>CartScreenAppear</td>\n",
       "      <td>6217807653094995999</td>\n",
       "      <td>1564055323</td>\n",
       "      <td>248</td>\n",
       "    </tr>\n",
       "    <tr>\n",
       "      <th>6</th>\n",
       "      <td>OffersScreenAppear</td>\n",
       "      <td>8351860793733343758</td>\n",
       "      <td>1564066242</td>\n",
       "      <td>246</td>\n",
       "    </tr>\n",
       "    <tr>\n",
       "      <th>7</th>\n",
       "      <td>MainScreenAppear</td>\n",
       "      <td>5682100281902512875</td>\n",
       "      <td>1564085677</td>\n",
       "      <td>246</td>\n",
       "    </tr>\n",
       "    <tr>\n",
       "      <th>8</th>\n",
       "      <td>MainScreenAppear</td>\n",
       "      <td>1850981295691852772</td>\n",
       "      <td>1564086702</td>\n",
       "      <td>247</td>\n",
       "    </tr>\n",
       "    <tr>\n",
       "      <th>9</th>\n",
       "      <td>MainScreenAppear</td>\n",
       "      <td>5407636962369102641</td>\n",
       "      <td>1564112112</td>\n",
       "      <td>246</td>\n",
       "    </tr>\n",
       "  </tbody>\n",
       "</table>\n",
       "</div>"
      ],
      "text/plain": [
       "                 EventName         DeviceIDHash  EventTimestamp  ExpId\n",
       "0         MainScreenAppear  4575588528974610257      1564029816    246\n",
       "1         MainScreenAppear  7416695313311560658      1564053102    246\n",
       "2  PaymentScreenSuccessful  3518123091307005509      1564054127    248\n",
       "3         CartScreenAppear  3518123091307005509      1564054127    248\n",
       "4  PaymentScreenSuccessful  6217807653094995999      1564055322    248\n",
       "5         CartScreenAppear  6217807653094995999      1564055323    248\n",
       "6       OffersScreenAppear  8351860793733343758      1564066242    246\n",
       "7         MainScreenAppear  5682100281902512875      1564085677    246\n",
       "8         MainScreenAppear  1850981295691852772      1564086702    247\n",
       "9         MainScreenAppear  5407636962369102641      1564112112    246"
      ]
     },
     "execution_count": 71,
     "metadata": {},
     "output_type": "execute_result"
    }
   ],
   "source": [
    "df = pd.read_csv('./dataset/logs_exp_us.csv', sep='\\t')\n",
    "print(df.info())\n",
    "print()\n",
    "df.head(10)"
   ]
  },
  {
   "cell_type": "markdown",
   "metadata": {},
   "source": [
    "## 2. Preparación de los datos"
   ]
  },
  {
   "cell_type": "markdown",
   "metadata": {},
   "source": [
    "### 2.1 Nombres de columnas"
   ]
  },
  {
   "cell_type": "markdown",
   "metadata": {},
   "source": [
    "Se decide cambiar los nombres de las columnas por unos que sean más convenientes, respetando la convención snake_case."
   ]
  },
  {
   "cell_type": "code",
   "execution_count": 72,
   "metadata": {},
   "outputs": [
    {
     "data": {
      "text/html": [
       "<div>\n",
       "<style scoped>\n",
       "    .dataframe tbody tr th:only-of-type {\n",
       "        vertical-align: middle;\n",
       "    }\n",
       "\n",
       "    .dataframe tbody tr th {\n",
       "        vertical-align: top;\n",
       "    }\n",
       "\n",
       "    .dataframe thead th {\n",
       "        text-align: right;\n",
       "    }\n",
       "</style>\n",
       "<table border=\"1\" class=\"dataframe\">\n",
       "  <thead>\n",
       "    <tr style=\"text-align: right;\">\n",
       "      <th></th>\n",
       "      <th>event_name</th>\n",
       "      <th>user_id</th>\n",
       "      <th>event_time</th>\n",
       "      <th>group</th>\n",
       "    </tr>\n",
       "  </thead>\n",
       "  <tbody>\n",
       "    <tr>\n",
       "      <th>0</th>\n",
       "      <td>MainScreenAppear</td>\n",
       "      <td>4575588528974610257</td>\n",
       "      <td>1564029816</td>\n",
       "      <td>246</td>\n",
       "    </tr>\n",
       "    <tr>\n",
       "      <th>1</th>\n",
       "      <td>MainScreenAppear</td>\n",
       "      <td>7416695313311560658</td>\n",
       "      <td>1564053102</td>\n",
       "      <td>246</td>\n",
       "    </tr>\n",
       "    <tr>\n",
       "      <th>2</th>\n",
       "      <td>PaymentScreenSuccessful</td>\n",
       "      <td>3518123091307005509</td>\n",
       "      <td>1564054127</td>\n",
       "      <td>248</td>\n",
       "    </tr>\n",
       "    <tr>\n",
       "      <th>3</th>\n",
       "      <td>CartScreenAppear</td>\n",
       "      <td>3518123091307005509</td>\n",
       "      <td>1564054127</td>\n",
       "      <td>248</td>\n",
       "    </tr>\n",
       "    <tr>\n",
       "      <th>4</th>\n",
       "      <td>PaymentScreenSuccessful</td>\n",
       "      <td>6217807653094995999</td>\n",
       "      <td>1564055322</td>\n",
       "      <td>248</td>\n",
       "    </tr>\n",
       "  </tbody>\n",
       "</table>\n",
       "</div>"
      ],
      "text/plain": [
       "                event_name              user_id  event_time  group\n",
       "0         MainScreenAppear  4575588528974610257  1564029816    246\n",
       "1         MainScreenAppear  7416695313311560658  1564053102    246\n",
       "2  PaymentScreenSuccessful  3518123091307005509  1564054127    248\n",
       "3         CartScreenAppear  3518123091307005509  1564054127    248\n",
       "4  PaymentScreenSuccessful  6217807653094995999  1564055322    248"
      ]
     },
     "execution_count": 72,
     "metadata": {},
     "output_type": "execute_result"
    }
   ],
   "source": [
    "df.columns = ['event_name', 'user_id', 'event_time', 'group']\n",
    "df.head()"
   ]
  },
  {
   "cell_type": "markdown",
   "metadata": {},
   "source": [
    "### 2.2 Detección de errores"
   ]
  },
  {
   "cell_type": "markdown",
   "metadata": {},
   "source": [
    "Se define una función para detectar errores tales como valores ausentes ó valores duplicados."
   ]
  },
  {
   "cell_type": "code",
   "execution_count": 73,
   "metadata": {},
   "outputs": [],
   "source": [
    "def error_detection(df): #Función para detectar errores en dataset\n",
    "    #Detección de valores ausentes por columna:\n",
    "    for column in df:\n",
    "        print(f'Valores ausentes en columna {column}:', df[column].isna().sum())\n",
    "    print()\n",
    "    #Detección de filas duplicadas:\n",
    "    print('Cantidad de filas duplicadas:', df.duplicated().sum())\n",
    "    print()\n",
    "    return df"
   ]
  },
  {
   "cell_type": "code",
   "execution_count": 74,
   "metadata": {},
   "outputs": [
    {
     "name": "stdout",
     "output_type": "stream",
     "text": [
      "Valores ausentes en columna event_name: 0\n",
      "Valores ausentes en columna user_id: 0\n",
      "Valores ausentes en columna event_time: 0\n",
      "Valores ausentes en columna group: 0\n",
      "\n",
      "Cantidad de filas duplicadas: 413\n",
      "\n"
     ]
    },
    {
     "data": {
      "text/html": [
       "<div>\n",
       "<style scoped>\n",
       "    .dataframe tbody tr th:only-of-type {\n",
       "        vertical-align: middle;\n",
       "    }\n",
       "\n",
       "    .dataframe tbody tr th {\n",
       "        vertical-align: top;\n",
       "    }\n",
       "\n",
       "    .dataframe thead th {\n",
       "        text-align: right;\n",
       "    }\n",
       "</style>\n",
       "<table border=\"1\" class=\"dataframe\">\n",
       "  <thead>\n",
       "    <tr style=\"text-align: right;\">\n",
       "      <th></th>\n",
       "      <th>event_name</th>\n",
       "      <th>user_id</th>\n",
       "      <th>event_time</th>\n",
       "      <th>group</th>\n",
       "    </tr>\n",
       "  </thead>\n",
       "  <tbody>\n",
       "    <tr>\n",
       "      <th>0</th>\n",
       "      <td>MainScreenAppear</td>\n",
       "      <td>4575588528974610257</td>\n",
       "      <td>1564029816</td>\n",
       "      <td>246</td>\n",
       "    </tr>\n",
       "    <tr>\n",
       "      <th>1</th>\n",
       "      <td>MainScreenAppear</td>\n",
       "      <td>7416695313311560658</td>\n",
       "      <td>1564053102</td>\n",
       "      <td>246</td>\n",
       "    </tr>\n",
       "    <tr>\n",
       "      <th>2</th>\n",
       "      <td>PaymentScreenSuccessful</td>\n",
       "      <td>3518123091307005509</td>\n",
       "      <td>1564054127</td>\n",
       "      <td>248</td>\n",
       "    </tr>\n",
       "    <tr>\n",
       "      <th>3</th>\n",
       "      <td>CartScreenAppear</td>\n",
       "      <td>3518123091307005509</td>\n",
       "      <td>1564054127</td>\n",
       "      <td>248</td>\n",
       "    </tr>\n",
       "    <tr>\n",
       "      <th>4</th>\n",
       "      <td>PaymentScreenSuccessful</td>\n",
       "      <td>6217807653094995999</td>\n",
       "      <td>1564055322</td>\n",
       "      <td>248</td>\n",
       "    </tr>\n",
       "    <tr>\n",
       "      <th>...</th>\n",
       "      <td>...</td>\n",
       "      <td>...</td>\n",
       "      <td>...</td>\n",
       "      <td>...</td>\n",
       "    </tr>\n",
       "    <tr>\n",
       "      <th>244121</th>\n",
       "      <td>MainScreenAppear</td>\n",
       "      <td>4599628364049201812</td>\n",
       "      <td>1565212345</td>\n",
       "      <td>247</td>\n",
       "    </tr>\n",
       "    <tr>\n",
       "      <th>244122</th>\n",
       "      <td>MainScreenAppear</td>\n",
       "      <td>5849806612437486590</td>\n",
       "      <td>1565212439</td>\n",
       "      <td>246</td>\n",
       "    </tr>\n",
       "    <tr>\n",
       "      <th>244123</th>\n",
       "      <td>MainScreenAppear</td>\n",
       "      <td>5746969938801999050</td>\n",
       "      <td>1565212483</td>\n",
       "      <td>246</td>\n",
       "    </tr>\n",
       "    <tr>\n",
       "      <th>244124</th>\n",
       "      <td>MainScreenAppear</td>\n",
       "      <td>5746969938801999050</td>\n",
       "      <td>1565212498</td>\n",
       "      <td>246</td>\n",
       "    </tr>\n",
       "    <tr>\n",
       "      <th>244125</th>\n",
       "      <td>OffersScreenAppear</td>\n",
       "      <td>5746969938801999050</td>\n",
       "      <td>1565212517</td>\n",
       "      <td>246</td>\n",
       "    </tr>\n",
       "  </tbody>\n",
       "</table>\n",
       "<p>244126 rows × 4 columns</p>\n",
       "</div>"
      ],
      "text/plain": [
       "                     event_name              user_id  event_time  group\n",
       "0              MainScreenAppear  4575588528974610257  1564029816    246\n",
       "1              MainScreenAppear  7416695313311560658  1564053102    246\n",
       "2       PaymentScreenSuccessful  3518123091307005509  1564054127    248\n",
       "3              CartScreenAppear  3518123091307005509  1564054127    248\n",
       "4       PaymentScreenSuccessful  6217807653094995999  1564055322    248\n",
       "...                         ...                  ...         ...    ...\n",
       "244121         MainScreenAppear  4599628364049201812  1565212345    247\n",
       "244122         MainScreenAppear  5849806612437486590  1565212439    246\n",
       "244123         MainScreenAppear  5746969938801999050  1565212483    246\n",
       "244124         MainScreenAppear  5746969938801999050  1565212498    246\n",
       "244125       OffersScreenAppear  5746969938801999050  1565212517    246\n",
       "\n",
       "[244126 rows x 4 columns]"
      ]
     },
     "execution_count": 74,
     "metadata": {},
     "output_type": "execute_result"
    }
   ],
   "source": [
    "error_detection(df)"
   ]
  },
  {
   "cell_type": "markdown",
   "metadata": {},
   "source": [
    "Se observa:  \n",
    "* No hay valores ausentes en las columnas.  \n",
    "* Hay 413 filas duplicadas en un total de 244126, lo que representa un 0.17% de los valores. Por la muy baja incidencia de los mismos, se decide eliminarlos del dataset.  \n",
    "* Se observa que los tipo de datos son correctos."
   ]
  },
  {
   "cell_type": "code",
   "execution_count": 75,
   "metadata": {},
   "outputs": [
    {
     "name": "stdout",
     "output_type": "stream",
     "text": [
      "Cantidad de filas duplicadas: 0\n",
      "\n",
      "<class 'pandas.core.frame.DataFrame'>\n",
      "Index: 243713 entries, 0 to 244125\n",
      "Data columns (total 4 columns):\n",
      " #   Column      Non-Null Count   Dtype \n",
      "---  ------      --------------   ----- \n",
      " 0   event_name  243713 non-null  object\n",
      " 1   user_id     243713 non-null  int64 \n",
      " 2   event_time  243713 non-null  int64 \n",
      " 3   group       243713 non-null  int64 \n",
      "dtypes: int64(3), object(1)\n",
      "memory usage: 9.3+ MB\n"
     ]
    }
   ],
   "source": [
    "df.drop_duplicates(inplace=True)\n",
    "print('Cantidad de filas duplicadas:', df.duplicated().sum())\n",
    "print()\n",
    "df.info()"
   ]
  },
  {
   "cell_type": "markdown",
   "metadata": {},
   "source": [
    "### 2.3 Fechas"
   ]
  },
  {
   "cell_type": "markdown",
   "metadata": {},
   "source": [
    "Se agregarán al dataframe una columna de fecha y hora y una columna separada para las fechas."
   ]
  },
  {
   "cell_type": "code",
   "execution_count": 76,
   "metadata": {},
   "outputs": [
    {
     "data": {
      "text/html": [
       "<div>\n",
       "<style scoped>\n",
       "    .dataframe tbody tr th:only-of-type {\n",
       "        vertical-align: middle;\n",
       "    }\n",
       "\n",
       "    .dataframe tbody tr th {\n",
       "        vertical-align: top;\n",
       "    }\n",
       "\n",
       "    .dataframe thead th {\n",
       "        text-align: right;\n",
       "    }\n",
       "</style>\n",
       "<table border=\"1\" class=\"dataframe\">\n",
       "  <thead>\n",
       "    <tr style=\"text-align: right;\">\n",
       "      <th></th>\n",
       "      <th>event_name</th>\n",
       "      <th>user_id</th>\n",
       "      <th>event_time</th>\n",
       "      <th>group</th>\n",
       "      <th>date_hour</th>\n",
       "      <th>date</th>\n",
       "    </tr>\n",
       "  </thead>\n",
       "  <tbody>\n",
       "    <tr>\n",
       "      <th>0</th>\n",
       "      <td>MainScreenAppear</td>\n",
       "      <td>4575588528974610257</td>\n",
       "      <td>1564029816</td>\n",
       "      <td>246</td>\n",
       "      <td>2019-07-25 04:43:36</td>\n",
       "      <td>2019-07-25</td>\n",
       "    </tr>\n",
       "    <tr>\n",
       "      <th>1</th>\n",
       "      <td>MainScreenAppear</td>\n",
       "      <td>7416695313311560658</td>\n",
       "      <td>1564053102</td>\n",
       "      <td>246</td>\n",
       "      <td>2019-07-25 11:11:42</td>\n",
       "      <td>2019-07-25</td>\n",
       "    </tr>\n",
       "    <tr>\n",
       "      <th>2</th>\n",
       "      <td>PaymentScreenSuccessful</td>\n",
       "      <td>3518123091307005509</td>\n",
       "      <td>1564054127</td>\n",
       "      <td>248</td>\n",
       "      <td>2019-07-25 11:28:47</td>\n",
       "      <td>2019-07-25</td>\n",
       "    </tr>\n",
       "    <tr>\n",
       "      <th>3</th>\n",
       "      <td>CartScreenAppear</td>\n",
       "      <td>3518123091307005509</td>\n",
       "      <td>1564054127</td>\n",
       "      <td>248</td>\n",
       "      <td>2019-07-25 11:28:47</td>\n",
       "      <td>2019-07-25</td>\n",
       "    </tr>\n",
       "    <tr>\n",
       "      <th>4</th>\n",
       "      <td>PaymentScreenSuccessful</td>\n",
       "      <td>6217807653094995999</td>\n",
       "      <td>1564055322</td>\n",
       "      <td>248</td>\n",
       "      <td>2019-07-25 11:48:42</td>\n",
       "      <td>2019-07-25</td>\n",
       "    </tr>\n",
       "  </tbody>\n",
       "</table>\n",
       "</div>"
      ],
      "text/plain": [
       "                event_name              user_id  event_time  group  \\\n",
       "0         MainScreenAppear  4575588528974610257  1564029816    246   \n",
       "1         MainScreenAppear  7416695313311560658  1564053102    246   \n",
       "2  PaymentScreenSuccessful  3518123091307005509  1564054127    248   \n",
       "3         CartScreenAppear  3518123091307005509  1564054127    248   \n",
       "4  PaymentScreenSuccessful  6217807653094995999  1564055322    248   \n",
       "\n",
       "            date_hour       date  \n",
       "0 2019-07-25 04:43:36 2019-07-25  \n",
       "1 2019-07-25 11:11:42 2019-07-25  \n",
       "2 2019-07-25 11:28:47 2019-07-25  \n",
       "3 2019-07-25 11:28:47 2019-07-25  \n",
       "4 2019-07-25 11:48:42 2019-07-25  "
      ]
     },
     "execution_count": 76,
     "metadata": {},
     "output_type": "execute_result"
    }
   ],
   "source": [
    "df['date_hour'] = pd.to_datetime(df['event_time'], unit='s')\n",
    "df['date'] = df['date_hour'].dt.date\n",
    "df['date'] = pd.to_datetime(df['date'], format='%Y-%m-%d')\n",
    "df.head()"
   ]
  },
  {
   "cell_type": "code",
   "execution_count": 77,
   "metadata": {},
   "outputs": [
    {
     "name": "stdout",
     "output_type": "stream",
     "text": [
      "<class 'pandas.core.frame.DataFrame'>\n",
      "Index: 243713 entries, 0 to 244125\n",
      "Data columns (total 6 columns):\n",
      " #   Column      Non-Null Count   Dtype         \n",
      "---  ------      --------------   -----         \n",
      " 0   event_name  243713 non-null  object        \n",
      " 1   user_id     243713 non-null  int64         \n",
      " 2   event_time  243713 non-null  int64         \n",
      " 3   group       243713 non-null  int64         \n",
      " 4   date_hour   243713 non-null  datetime64[ns]\n",
      " 5   date        243713 non-null  datetime64[ns]\n",
      "dtypes: datetime64[ns](2), int64(3), object(1)\n",
      "memory usage: 13.0+ MB\n"
     ]
    }
   ],
   "source": [
    "df.info()"
   ]
  },
  {
   "cell_type": "markdown",
   "metadata": {},
   "source": [
    "## 3. Estudio y comprobación de los datos"
   ]
  },
  {
   "cell_type": "markdown",
   "metadata": {},
   "source": [
    "### 3.1 Cantidad de eventos en los registros"
   ]
  },
  {
   "cell_type": "markdown",
   "metadata": {},
   "source": [
    "Se calculará la cantidad de eventos por cada tipo de evento registrado, guardándolos en un nuevo dataframe de eventos."
   ]
  },
  {
   "cell_type": "code",
   "execution_count": 78,
   "metadata": {},
   "outputs": [
    {
     "data": {
      "text/html": [
       "<div>\n",
       "<style scoped>\n",
       "    .dataframe tbody tr th:only-of-type {\n",
       "        vertical-align: middle;\n",
       "    }\n",
       "\n",
       "    .dataframe tbody tr th {\n",
       "        vertical-align: top;\n",
       "    }\n",
       "\n",
       "    .dataframe thead th {\n",
       "        text-align: right;\n",
       "    }\n",
       "</style>\n",
       "<table border=\"1\" class=\"dataframe\">\n",
       "  <thead>\n",
       "    <tr style=\"text-align: right;\">\n",
       "      <th></th>\n",
       "      <th>event_name</th>\n",
       "      <th>event_count</th>\n",
       "    </tr>\n",
       "  </thead>\n",
       "  <tbody>\n",
       "    <tr>\n",
       "      <th>0</th>\n",
       "      <td>MainScreenAppear</td>\n",
       "      <td>119101</td>\n",
       "    </tr>\n",
       "    <tr>\n",
       "      <th>1</th>\n",
       "      <td>OffersScreenAppear</td>\n",
       "      <td>46808</td>\n",
       "    </tr>\n",
       "    <tr>\n",
       "      <th>2</th>\n",
       "      <td>CartScreenAppear</td>\n",
       "      <td>42668</td>\n",
       "    </tr>\n",
       "    <tr>\n",
       "      <th>3</th>\n",
       "      <td>PaymentScreenSuccessful</td>\n",
       "      <td>34118</td>\n",
       "    </tr>\n",
       "    <tr>\n",
       "      <th>4</th>\n",
       "      <td>Tutorial</td>\n",
       "      <td>1018</td>\n",
       "    </tr>\n",
       "  </tbody>\n",
       "</table>\n",
       "</div>"
      ],
      "text/plain": [
       "                event_name  event_count\n",
       "0         MainScreenAppear       119101\n",
       "1       OffersScreenAppear        46808\n",
       "2         CartScreenAppear        42668\n",
       "3  PaymentScreenSuccessful        34118\n",
       "4                 Tutorial         1018"
      ]
     },
     "execution_count": 78,
     "metadata": {},
     "output_type": "execute_result"
    }
   ],
   "source": [
    "events = df.groupby('event_name').agg({'user_id':'count'}).sort_values(by='user_id', ascending=False).reset_index()\n",
    "events.columns = ['event_name', 'event_count']\n",
    "events"
   ]
  },
  {
   "cell_type": "markdown",
   "metadata": {},
   "source": [
    "### 3.2 Cantidad de usuarios en los registros"
   ]
  },
  {
   "cell_type": "markdown",
   "metadata": {},
   "source": [
    "Se calcula la cantidad de usuarios que están en los registros en forma total, sin diferenciar por grupo de experimento. Luego se determina la cantidad de usuarios registrados en cada evento, generando un dataframe de usuarios."
   ]
  },
  {
   "cell_type": "code",
   "execution_count": 79,
   "metadata": {},
   "outputs": [
    {
     "name": "stdout",
     "output_type": "stream",
     "text": [
      "Cantidad de usuarios en registros: 7551\n",
      "\n"
     ]
    },
    {
     "data": {
      "text/html": [
       "<div>\n",
       "<style scoped>\n",
       "    .dataframe tbody tr th:only-of-type {\n",
       "        vertical-align: middle;\n",
       "    }\n",
       "\n",
       "    .dataframe tbody tr th {\n",
       "        vertical-align: top;\n",
       "    }\n",
       "\n",
       "    .dataframe thead th {\n",
       "        text-align: right;\n",
       "    }\n",
       "</style>\n",
       "<table border=\"1\" class=\"dataframe\">\n",
       "  <thead>\n",
       "    <tr style=\"text-align: right;\">\n",
       "      <th></th>\n",
       "      <th>event_name</th>\n",
       "      <th>users</th>\n",
       "    </tr>\n",
       "  </thead>\n",
       "  <tbody>\n",
       "    <tr>\n",
       "      <th>0</th>\n",
       "      <td>MainScreenAppear</td>\n",
       "      <td>7439</td>\n",
       "    </tr>\n",
       "    <tr>\n",
       "      <th>1</th>\n",
       "      <td>OffersScreenAppear</td>\n",
       "      <td>4613</td>\n",
       "    </tr>\n",
       "    <tr>\n",
       "      <th>2</th>\n",
       "      <td>CartScreenAppear</td>\n",
       "      <td>3749</td>\n",
       "    </tr>\n",
       "    <tr>\n",
       "      <th>3</th>\n",
       "      <td>PaymentScreenSuccessful</td>\n",
       "      <td>3547</td>\n",
       "    </tr>\n",
       "    <tr>\n",
       "      <th>4</th>\n",
       "      <td>Tutorial</td>\n",
       "      <td>847</td>\n",
       "    </tr>\n",
       "  </tbody>\n",
       "</table>\n",
       "</div>"
      ],
      "text/plain": [
       "                event_name  users\n",
       "0         MainScreenAppear   7439\n",
       "1       OffersScreenAppear   4613\n",
       "2         CartScreenAppear   3749\n",
       "3  PaymentScreenSuccessful   3547\n",
       "4                 Tutorial    847"
      ]
     },
     "execution_count": 79,
     "metadata": {},
     "output_type": "execute_result"
    }
   ],
   "source": [
    "print('Cantidad de usuarios en registros:', df['user_id'].nunique())\n",
    "print()\n",
    "users = df.groupby('event_name').agg({'user_id':'nunique'}).sort_values(by='user_id', ascending=False).reset_index()\n",
    "users.columns = ['event_name', 'users']\n",
    "users"
   ]
  },
  {
   "cell_type": "markdown",
   "metadata": {},
   "source": [
    "### 3.3 Promedio de eventos por usuario"
   ]
  },
  {
   "cell_type": "markdown",
   "metadata": {},
   "source": [
    "Se calculará a continuación la cantidad de eventos realizados por usuario para cada tipo de evento.  \n",
    "Para esto, se genera un dataframe por la unión de los correspondientes a eventos y usuarios, donde se adiciona una columna con el cálculo del promedio de eventos por usuario."
   ]
  },
  {
   "cell_type": "code",
   "execution_count": 80,
   "metadata": {},
   "outputs": [
    {
     "data": {
      "text/html": [
       "<div>\n",
       "<style scoped>\n",
       "    .dataframe tbody tr th:only-of-type {\n",
       "        vertical-align: middle;\n",
       "    }\n",
       "\n",
       "    .dataframe tbody tr th {\n",
       "        vertical-align: top;\n",
       "    }\n",
       "\n",
       "    .dataframe thead th {\n",
       "        text-align: right;\n",
       "    }\n",
       "</style>\n",
       "<table border=\"1\" class=\"dataframe\">\n",
       "  <thead>\n",
       "    <tr style=\"text-align: right;\">\n",
       "      <th></th>\n",
       "      <th>event_name</th>\n",
       "      <th>event_count</th>\n",
       "      <th>users</th>\n",
       "      <th>event_per_user</th>\n",
       "    </tr>\n",
       "  </thead>\n",
       "  <tbody>\n",
       "    <tr>\n",
       "      <th>0</th>\n",
       "      <td>MainScreenAppear</td>\n",
       "      <td>119101</td>\n",
       "      <td>7439</td>\n",
       "      <td>16.010351</td>\n",
       "    </tr>\n",
       "    <tr>\n",
       "      <th>1</th>\n",
       "      <td>OffersScreenAppear</td>\n",
       "      <td>46808</td>\n",
       "      <td>4613</td>\n",
       "      <td>10.146976</td>\n",
       "    </tr>\n",
       "    <tr>\n",
       "      <th>2</th>\n",
       "      <td>CartScreenAppear</td>\n",
       "      <td>42668</td>\n",
       "      <td>3749</td>\n",
       "      <td>11.381168</td>\n",
       "    </tr>\n",
       "    <tr>\n",
       "      <th>3</th>\n",
       "      <td>PaymentScreenSuccessful</td>\n",
       "      <td>34118</td>\n",
       "      <td>3547</td>\n",
       "      <td>9.618833</td>\n",
       "    </tr>\n",
       "    <tr>\n",
       "      <th>4</th>\n",
       "      <td>Tutorial</td>\n",
       "      <td>1018</td>\n",
       "      <td>847</td>\n",
       "      <td>1.201889</td>\n",
       "    </tr>\n",
       "  </tbody>\n",
       "</table>\n",
       "</div>"
      ],
      "text/plain": [
       "                event_name  event_count  users  event_per_user\n",
       "0         MainScreenAppear       119101   7439       16.010351\n",
       "1       OffersScreenAppear        46808   4613       10.146976\n",
       "2         CartScreenAppear        42668   3749       11.381168\n",
       "3  PaymentScreenSuccessful        34118   3547        9.618833\n",
       "4                 Tutorial         1018    847        1.201889"
      ]
     },
     "execution_count": 80,
     "metadata": {},
     "output_type": "execute_result"
    }
   ],
   "source": [
    "events_and_users = events.merge(users, on='event_name')\n",
    "events_and_users['event_per_user'] = events_and_users['event_count'] / events_and_users['users']\n",
    "events_and_users"
   ]
  },
  {
   "cell_type": "markdown",
   "metadata": {},
   "source": [
    "### 3.4 Estudio del período de tiempo de los datos"
   ]
  },
  {
   "cell_type": "markdown",
   "metadata": {},
   "source": [
    "Se observará el período de tiempo que cubren los datos, analizando también mediante un histograma los días y horarios de eventos, para analizar si los datos con los que se cuenta están igualmente completos para todo el período, ya que, de darse lo contrario, podría existir un sesgo del panorama general."
   ]
  },
  {
   "cell_type": "code",
   "execution_count": 81,
   "metadata": {},
   "outputs": [
    {
     "name": "stdout",
     "output_type": "stream",
     "text": [
      "Descripicón general de la columna \"date\":\n",
      "\n",
      "count                           243713\n",
      "mean     2019-08-03 21:33:56.735012096\n",
      "min                2019-07-25 00:00:00\n",
      "25%                2019-08-02 00:00:00\n",
      "50%                2019-08-04 00:00:00\n",
      "75%                2019-08-06 00:00:00\n",
      "max                2019-08-07 00:00:00\n",
      "Name: date, dtype: object\n"
     ]
    },
    {
     "data": {
      "image/png": "[encoded data removed]",
      "text/plain": [
       "<Figure size 1200x600 with 1 Axes>"
      ]
     },
     "metadata": {},
     "output_type": "display_data"
    }
   ],
   "source": [
    "#Aplico el método describe() para obtener las fechas máximas y mínimas de los registros, y así, el período de tiempo\n",
    "print('Descripicón general de la columna \"date\":')\n",
    "print()\n",
    "print(df['date'].describe())\n",
    "\n",
    "#Genero un histograma para analizar las fechas y horarios de los eventos\n",
    "sns.displot(df['date_hour'], bins=200, height=6, aspect=2)\n",
    "plt.title('Distribución de fechas en el período de tiempo registrado')\n",
    "plt.xlabel('Fecha')\n",
    "plt.ylabel('Conteo')\n",
    "plt.xticks(rotation=90)\n",
    "sns.set_style('dark')"
   ]
  },
  {
   "cell_type": "markdown",
   "metadata": {},
   "source": [
    "Se observa:  \n",
    "* El período de tiempo de registros van desde el 2019-07-25 al 2019-08-07  \n",
    "* Los registros comienzan a presentarse con mayor frecuencia a partir del 2019-07-31, sindo prácticamente nulos en los días anteriores.  \n",
    "\n",
    "Lo observado indica que, de considerar los datos previos al día 07-31, se podría producir un sesgo en el panorama general, ya que estarían incompletos los datos, por lo que se decide excluir del análisis los registros previos a dicha fecha."
   ]
  },
  {
   "cell_type": "markdown",
   "metadata": {},
   "source": [
    "Dado que existe una gran variación de registros horarios, aún dentro de un mismo día, se grafica a continuación un histograma con los registros entre el día 07-31 18hs y el día 08-01 00hs, a fin de determinar el horario también donde cambian la cantidad de registros."
   ]
  },
  {
   "cell_type": "code",
   "execution_count": 82,
   "metadata": {},
   "outputs": [
    {
     "data": {
      "image/png": "[encoded data removed]",
      "text/plain": [
       "<Figure size 1800x600 with 1 Axes>"
      ]
     },
     "metadata": {},
     "output_type": "display_data"
    }
   ],
   "source": [
    "sns.displot(df.query('(date_hour >= \"2019-07-31 18:00:00\")&(date_hour <= \"2019-08-01 00:00:00\")')['date_hour'], bins=200, height=6, aspect=3)\n",
    "plt.title('Distribución horaria entre el 07-31 18hs y 08-01 00hs')\n",
    "plt.xlabel('Fecha-hora')\n",
    "plt.ylabel('Conteo')\n",
    "plt.xticks(rotation=90)\n",
    "sns.set_style('dark')"
   ]
  },
  {
   "cell_type": "markdown",
   "metadata": {},
   "source": [
    "Se observa que el cambio en los datos ocurre a las 21 hs del día 07-31, por lo que se elige dicho momento de corte para el nuevo período de tiempo con el que se filtrarán los datos."
   ]
  },
  {
   "cell_type": "code",
   "execution_count": 83,
   "metadata": {},
   "outputs": [
    {
     "data": {
      "text/html": [
       "<div>\n",
       "<style scoped>\n",
       "    .dataframe tbody tr th:only-of-type {\n",
       "        vertical-align: middle;\n",
       "    }\n",
       "\n",
       "    .dataframe tbody tr th {\n",
       "        vertical-align: top;\n",
       "    }\n",
       "\n",
       "    .dataframe thead th {\n",
       "        text-align: right;\n",
       "    }\n",
       "</style>\n",
       "<table border=\"1\" class=\"dataframe\">\n",
       "  <thead>\n",
       "    <tr style=\"text-align: right;\">\n",
       "      <th></th>\n",
       "      <th>event_name</th>\n",
       "      <th>user_id</th>\n",
       "      <th>event_time</th>\n",
       "      <th>group</th>\n",
       "      <th>date_hour</th>\n",
       "      <th>date</th>\n",
       "    </tr>\n",
       "  </thead>\n",
       "  <tbody>\n",
       "    <tr>\n",
       "      <th>1990</th>\n",
       "      <td>MainScreenAppear</td>\n",
       "      <td>7701922487875823903</td>\n",
       "      <td>1564606857</td>\n",
       "      <td>247</td>\n",
       "      <td>2019-07-31 21:00:57</td>\n",
       "      <td>2019-07-31</td>\n",
       "    </tr>\n",
       "    <tr>\n",
       "      <th>1991</th>\n",
       "      <td>MainScreenAppear</td>\n",
       "      <td>2539077412200498909</td>\n",
       "      <td>1564606905</td>\n",
       "      <td>247</td>\n",
       "      <td>2019-07-31 21:01:45</td>\n",
       "      <td>2019-07-31</td>\n",
       "    </tr>\n",
       "    <tr>\n",
       "      <th>1992</th>\n",
       "      <td>OffersScreenAppear</td>\n",
       "      <td>3286987355161301427</td>\n",
       "      <td>1564606941</td>\n",
       "      <td>248</td>\n",
       "      <td>2019-07-31 21:02:21</td>\n",
       "      <td>2019-07-31</td>\n",
       "    </tr>\n",
       "    <tr>\n",
       "      <th>1993</th>\n",
       "      <td>OffersScreenAppear</td>\n",
       "      <td>3187166762535343300</td>\n",
       "      <td>1564606943</td>\n",
       "      <td>247</td>\n",
       "      <td>2019-07-31 21:02:23</td>\n",
       "      <td>2019-07-31</td>\n",
       "    </tr>\n",
       "    <tr>\n",
       "      <th>1994</th>\n",
       "      <td>MainScreenAppear</td>\n",
       "      <td>1118952406011435924</td>\n",
       "      <td>1564607005</td>\n",
       "      <td>248</td>\n",
       "      <td>2019-07-31 21:03:25</td>\n",
       "      <td>2019-07-31</td>\n",
       "    </tr>\n",
       "  </tbody>\n",
       "</table>\n",
       "</div>"
      ],
      "text/plain": [
       "              event_name              user_id  event_time  group  \\\n",
       "1990    MainScreenAppear  7701922487875823903  1564606857    247   \n",
       "1991    MainScreenAppear  2539077412200498909  1564606905    247   \n",
       "1992  OffersScreenAppear  3286987355161301427  1564606941    248   \n",
       "1993  OffersScreenAppear  3187166762535343300  1564606943    247   \n",
       "1994    MainScreenAppear  1118952406011435924  1564607005    248   \n",
       "\n",
       "               date_hour       date  \n",
       "1990 2019-07-31 21:00:57 2019-07-31  \n",
       "1991 2019-07-31 21:01:45 2019-07-31  \n",
       "1992 2019-07-31 21:02:21 2019-07-31  \n",
       "1993 2019-07-31 21:02:23 2019-07-31  \n",
       "1994 2019-07-31 21:03:25 2019-07-31  "
      ]
     },
     "metadata": {},
     "output_type": "display_data"
    },
    {
     "name": "stdout",
     "output_type": "stream",
     "text": [
      "\n",
      "\n",
      "Descripicón general de la columna \"date\" en el nuevo período considerado:\n",
      "\n",
      "count                           241724\n",
      "mean     2019-08-03 22:29:13.086991616\n",
      "min                2019-07-31 00:00:00\n",
      "25%                2019-08-02 00:00:00\n",
      "50%                2019-08-04 00:00:00\n",
      "75%                2019-08-06 00:00:00\n",
      "max                2019-08-07 00:00:00\n",
      "Name: date, dtype: object\n"
     ]
    },
    {
     "data": {
      "image/png": "[encoded data removed]",
      "text/plain": [
       "<Figure size 1200x600 with 1 Axes>"
      ]
     },
     "metadata": {},
     "output_type": "display_data"
    }
   ],
   "source": [
    "#Genero nuevo dataframe con los valores de fechas filtrados\n",
    "df_new_dates = df.query('date_hour > \"2019-07-31 21:00:00\"')\n",
    "display(df_new_dates.head())\n",
    "print()\n",
    "print()\n",
    "\n",
    "#Aplico el método describe() para obtener las fechas máximas y mínimas de los registros en el dataframe filtrado\n",
    "print('Descripicón general de la columna \"date\" en el nuevo período considerado:')\n",
    "print()\n",
    "print(df_new_dates['date'].describe())\n",
    "\n",
    "#Genero nuevo histograma para el nuevo período de tiempo\n",
    "sns.displot(df_new_dates['date_hour'], bins=200, height=6, aspect=2)\n",
    "plt.title('Distribución de fechas en el nuevo período de tiempo registrado')\n",
    "plt.xlabel('Fecha')\n",
    "plt.ylabel('Conteo')\n",
    "plt.xticks(rotation=90)\n",
    "sns.set_style('dark')"
   ]
  },
  {
   "cell_type": "markdown",
   "metadata": {},
   "source": [
    "### 3.5 Información perdida"
   ]
  },
  {
   "cell_type": "markdown",
   "metadata": {},
   "source": [
    "Se verificará a continuación cuántos datos se perdieron por el filtrado del nuevo período de tiempo."
   ]
  },
  {
   "cell_type": "code",
   "execution_count": 84,
   "metadata": {},
   "outputs": [
    {
     "name": "stdout",
     "output_type": "stream",
     "text": [
      "Dimensiones del dataframe de los valores que se excluyeron anteriormente: (1989, 6)\n",
      "\n",
      "Porcentaje que representan del total: 0.8161238834202524 %\n"
     ]
    }
   ],
   "source": [
    "print('Dimensiones del dataframe de los valores que se excluyeron anteriormente:', df.query('~(date_hour > \"2019-07-31 21:00:00\")').shape)\n",
    "print()\n",
    "print('Porcentaje que representan del total:', df.query('~(date_hour > \"2019-07-31 21:00:00\")')['date_hour'].count() / df['date_hour'].count() * 100, '%')"
   ]
  },
  {
   "cell_type": "markdown",
   "metadata": {},
   "source": [
    "Los registros perdidos representaban un 0.82% del total de registros, por lo que su exclusión no representa una incidencia significativa en el análisis."
   ]
  },
  {
   "cell_type": "markdown",
   "metadata": {},
   "source": [
    "### 3.6 Grupos experimentales"
   ]
  },
  {
   "cell_type": "markdown",
   "metadata": {},
   "source": [
    "Se verifica rápidamente a continuación que existan usuarios en cada grupo de experimentación, calculando al mismo tiempo la cantidad de usuarios únicos en cada uno de los mismos."
   ]
  },
  {
   "cell_type": "code",
   "execution_count": 85,
   "metadata": {},
   "outputs": [
    {
     "data": {
      "text/html": [
       "<div>\n",
       "<style scoped>\n",
       "    .dataframe tbody tr th:only-of-type {\n",
       "        vertical-align: middle;\n",
       "    }\n",
       "\n",
       "    .dataframe tbody tr th {\n",
       "        vertical-align: top;\n",
       "    }\n",
       "\n",
       "    .dataframe thead th {\n",
       "        text-align: right;\n",
       "    }\n",
       "</style>\n",
       "<table border=\"1\" class=\"dataframe\">\n",
       "  <thead>\n",
       "    <tr style=\"text-align: right;\">\n",
       "      <th></th>\n",
       "      <th>user_id</th>\n",
       "    </tr>\n",
       "    <tr>\n",
       "      <th>group</th>\n",
       "      <th></th>\n",
       "    </tr>\n",
       "  </thead>\n",
       "  <tbody>\n",
       "    <tr>\n",
       "      <th>246</th>\n",
       "      <td>2484</td>\n",
       "    </tr>\n",
       "    <tr>\n",
       "      <th>247</th>\n",
       "      <td>2517</td>\n",
       "    </tr>\n",
       "    <tr>\n",
       "      <th>248</th>\n",
       "      <td>2537</td>\n",
       "    </tr>\n",
       "  </tbody>\n",
       "</table>\n",
       "</div>"
      ],
      "text/plain": [
       "       user_id\n",
       "group         \n",
       "246       2484\n",
       "247       2517\n",
       "248       2537"
      ]
     },
     "execution_count": 85,
     "metadata": {},
     "output_type": "execute_result"
    }
   ],
   "source": [
    "df_new_dates.groupby('group').agg({'user_id': 'nunique'})"
   ]
  },
  {
   "cell_type": "markdown",
   "metadata": {},
   "source": [
    "## 4. Embudo de eventos"
   ]
  },
  {
   "cell_type": "markdown",
   "metadata": {},
   "source": [
    "### 4.1 Eventos"
   ]
  },
  {
   "cell_type": "markdown",
   "metadata": {},
   "source": [
    "Con el nuevo dataframe filtrado, se calcularán nuevamente los eventos que existen en los registros, así como la ocurrencia de los mismos, ordenados de mayor a menor."
   ]
  },
  {
   "cell_type": "code",
   "execution_count": 86,
   "metadata": {},
   "outputs": [
    {
     "data": {
      "text/html": [
       "<div>\n",
       "<style scoped>\n",
       "    .dataframe tbody tr th:only-of-type {\n",
       "        vertical-align: middle;\n",
       "    }\n",
       "\n",
       "    .dataframe tbody tr th {\n",
       "        vertical-align: top;\n",
       "    }\n",
       "\n",
       "    .dataframe thead th {\n",
       "        text-align: right;\n",
       "    }\n",
       "</style>\n",
       "<table border=\"1\" class=\"dataframe\">\n",
       "  <thead>\n",
       "    <tr style=\"text-align: right;\">\n",
       "      <th></th>\n",
       "      <th>event_name</th>\n",
       "      <th>event_count</th>\n",
       "    </tr>\n",
       "  </thead>\n",
       "  <tbody>\n",
       "    <tr>\n",
       "      <th>0</th>\n",
       "      <td>MainScreenAppear</td>\n",
       "      <td>117889</td>\n",
       "    </tr>\n",
       "    <tr>\n",
       "      <th>1</th>\n",
       "      <td>OffersScreenAppear</td>\n",
       "      <td>46531</td>\n",
       "    </tr>\n",
       "    <tr>\n",
       "      <th>2</th>\n",
       "      <td>CartScreenAppear</td>\n",
       "      <td>42343</td>\n",
       "    </tr>\n",
       "    <tr>\n",
       "      <th>3</th>\n",
       "      <td>PaymentScreenSuccessful</td>\n",
       "      <td>33951</td>\n",
       "    </tr>\n",
       "    <tr>\n",
       "      <th>4</th>\n",
       "      <td>Tutorial</td>\n",
       "      <td>1010</td>\n",
       "    </tr>\n",
       "  </tbody>\n",
       "</table>\n",
       "</div>"
      ],
      "text/plain": [
       "                event_name  event_count\n",
       "0         MainScreenAppear       117889\n",
       "1       OffersScreenAppear        46531\n",
       "2         CartScreenAppear        42343\n",
       "3  PaymentScreenSuccessful        33951\n",
       "4                 Tutorial         1010"
      ]
     },
     "execution_count": 86,
     "metadata": {},
     "output_type": "execute_result"
    }
   ],
   "source": [
    "events = df_new_dates.groupby('event_name').agg({'user_id':'count'}).sort_values(by='user_id', ascending=False).reset_index()\n",
    "events.columns = ['event_name', 'event_count']\n",
    "events"
   ]
  },
  {
   "cell_type": "markdown",
   "metadata": {},
   "source": [
    "### 4.2 Eventos y usuarios"
   ]
  },
  {
   "cell_type": "markdown",
   "metadata": {},
   "source": [
    "Con el nuevo dataframe filtrado, se calcularán para cada evento la cantidad de usuarios únicos que realizaron los mismos, y se agregará la columna con la proporción de dichos usuarios respecto del total."
   ]
  },
  {
   "cell_type": "code",
   "execution_count": 87,
   "metadata": {},
   "outputs": [
    {
     "data": {
      "text/html": [
       "<div>\n",
       "<style scoped>\n",
       "    .dataframe tbody tr th:only-of-type {\n",
       "        vertical-align: middle;\n",
       "    }\n",
       "\n",
       "    .dataframe tbody tr th {\n",
       "        vertical-align: top;\n",
       "    }\n",
       "\n",
       "    .dataframe thead th {\n",
       "        text-align: right;\n",
       "    }\n",
       "</style>\n",
       "<table border=\"1\" class=\"dataframe\">\n",
       "  <thead>\n",
       "    <tr style=\"text-align: right;\">\n",
       "      <th></th>\n",
       "      <th>event_name</th>\n",
       "      <th>users</th>\n",
       "      <th>ratio</th>\n",
       "    </tr>\n",
       "  </thead>\n",
       "  <tbody>\n",
       "    <tr>\n",
       "      <th>0</th>\n",
       "      <td>MainScreenAppear</td>\n",
       "      <td>7423</td>\n",
       "      <td>0.368588</td>\n",
       "    </tr>\n",
       "    <tr>\n",
       "      <th>1</th>\n",
       "      <td>OffersScreenAppear</td>\n",
       "      <td>4597</td>\n",
       "      <td>0.228264</td>\n",
       "    </tr>\n",
       "    <tr>\n",
       "      <th>2</th>\n",
       "      <td>CartScreenAppear</td>\n",
       "      <td>3736</td>\n",
       "      <td>0.185511</td>\n",
       "    </tr>\n",
       "    <tr>\n",
       "      <th>3</th>\n",
       "      <td>PaymentScreenSuccessful</td>\n",
       "      <td>3540</td>\n",
       "      <td>0.175778</td>\n",
       "    </tr>\n",
       "    <tr>\n",
       "      <th>4</th>\n",
       "      <td>Tutorial</td>\n",
       "      <td>843</td>\n",
       "      <td>0.041859</td>\n",
       "    </tr>\n",
       "  </tbody>\n",
       "</table>\n",
       "</div>"
      ],
      "text/plain": [
       "                event_name  users     ratio\n",
       "0         MainScreenAppear   7423  0.368588\n",
       "1       OffersScreenAppear   4597  0.228264\n",
       "2         CartScreenAppear   3736  0.185511\n",
       "3  PaymentScreenSuccessful   3540  0.175778\n",
       "4                 Tutorial    843  0.041859"
      ]
     },
     "execution_count": 87,
     "metadata": {},
     "output_type": "execute_result"
    }
   ],
   "source": [
    "users = df_new_dates.groupby('event_name').agg({'user_id':'nunique'}).sort_values(by='user_id', ascending=False).reset_index()\n",
    "users.columns = ['event_name', 'users']\n",
    "users['ratio'] = users['users'] / users['users'].sum()\n",
    "users"
   ]
  },
  {
   "cell_type": "markdown",
   "metadata": {},
   "source": [
    "### 4.3 Ocurrencia de acciones"
   ]
  },
  {
   "cell_type": "markdown",
   "metadata": {},
   "source": [
    "Para los eventos contenidos en los registros, la cantidad de veces que cada uno es ejecutado, junto con la cantidad de usuarios que realizan los mismos, demuestran la posible secuencia de ocurrencia:  \n",
    "1. Se visualiza la pantalla principal (Main screen appear)  \n",
    "2. Se visualiza la pantalla de productos (Offers screen appear)  \n",
    "3. Se visualiza el carrito de compras (Cart screen appear)  \n",
    "4. Se efectúa el pago de la compra (Payment screen successful)  \n",
    "\n",
    "Para el caso del evento \"Tutorial\", el cual posee la menor cantidad de registros, es probable que no necesariamente forme parte de los eventos secuencialmente, ya que tal vez únicamente los nuevos usuarios son los que necesitarían de ver el mismo, y tal vez se visualiza en cualquier parte del proceso. Por esto, se considera que este evento no necesita ser parte del embudo de eventos a estudiar."
   ]
  },
  {
   "cell_type": "markdown",
   "metadata": {},
   "source": [
    "### 4.4 Embudo de eventos"
   ]
  },
  {
   "cell_type": "markdown",
   "metadata": {},
   "source": [
    "Se calcula a continuación el embudo de eventos según la secuencia descripta anteriormente.  \n",
    "Para esto, inicialmente se creará una tabla dinámica con usuarios en filas, eventos en columnas, fecha y hora en valores, calculando la hora de la primera ocurrencia de cada evento.  \n",
    "Luego se representará gráficamente el embudo de eventos."
   ]
  },
  {
   "cell_type": "code",
   "execution_count": 88,
   "metadata": {},
   "outputs": [
    {
     "data": {
      "text/html": [
       "<div>\n",
       "<style scoped>\n",
       "    .dataframe tbody tr th:only-of-type {\n",
       "        vertical-align: middle;\n",
       "    }\n",
       "\n",
       "    .dataframe tbody tr th {\n",
       "        vertical-align: top;\n",
       "    }\n",
       "\n",
       "    .dataframe thead th {\n",
       "        text-align: right;\n",
       "    }\n",
       "</style>\n",
       "<table border=\"1\" class=\"dataframe\">\n",
       "  <thead>\n",
       "    <tr style=\"text-align: right;\">\n",
       "      <th>event_name</th>\n",
       "      <th>CartScreenAppear</th>\n",
       "      <th>MainScreenAppear</th>\n",
       "      <th>OffersScreenAppear</th>\n",
       "      <th>PaymentScreenSuccessful</th>\n",
       "      <th>Tutorial</th>\n",
       "    </tr>\n",
       "    <tr>\n",
       "      <th>user_id</th>\n",
       "      <th></th>\n",
       "      <th></th>\n",
       "      <th></th>\n",
       "      <th></th>\n",
       "      <th></th>\n",
       "    </tr>\n",
       "  </thead>\n",
       "  <tbody>\n",
       "    <tr>\n",
       "      <th>6888746892508752</th>\n",
       "      <td>NaT</td>\n",
       "      <td>2019-08-06 14:06:34</td>\n",
       "      <td>NaT</td>\n",
       "      <td>NaT</td>\n",
       "      <td>NaT</td>\n",
       "    </tr>\n",
       "    <tr>\n",
       "      <th>6909561520679493</th>\n",
       "      <td>2019-08-06 18:52:58</td>\n",
       "      <td>2019-08-06 18:52:54</td>\n",
       "      <td>2019-08-06 18:53:04</td>\n",
       "      <td>2019-08-06 18:52:58</td>\n",
       "      <td>NaT</td>\n",
       "    </tr>\n",
       "    <tr>\n",
       "      <th>6922444491712477</th>\n",
       "      <td>2019-08-04 14:19:40</td>\n",
       "      <td>2019-08-04 14:19:33</td>\n",
       "      <td>2019-08-04 14:19:46</td>\n",
       "      <td>2019-08-04 14:19:40</td>\n",
       "      <td>NaT</td>\n",
       "    </tr>\n",
       "    <tr>\n",
       "      <th>7435777799948366</th>\n",
       "      <td>NaT</td>\n",
       "      <td>2019-08-05 08:06:34</td>\n",
       "      <td>NaT</td>\n",
       "      <td>NaT</td>\n",
       "      <td>NaT</td>\n",
       "    </tr>\n",
       "    <tr>\n",
       "      <th>7702139951469979</th>\n",
       "      <td>2019-08-02 14:28:45</td>\n",
       "      <td>2019-08-01 04:29:54</td>\n",
       "      <td>2019-08-01 04:29:56</td>\n",
       "      <td>2019-08-02 14:28:45</td>\n",
       "      <td>NaT</td>\n",
       "    </tr>\n",
       "  </tbody>\n",
       "</table>\n",
       "</div>"
      ],
      "text/plain": [
       "event_name          CartScreenAppear    MainScreenAppear  OffersScreenAppear  \\\n",
       "user_id                                                                        \n",
       "6888746892508752                 NaT 2019-08-06 14:06:34                 NaT   \n",
       "6909561520679493 2019-08-06 18:52:58 2019-08-06 18:52:54 2019-08-06 18:53:04   \n",
       "6922444491712477 2019-08-04 14:19:40 2019-08-04 14:19:33 2019-08-04 14:19:46   \n",
       "7435777799948366                 NaT 2019-08-05 08:06:34                 NaT   \n",
       "7702139951469979 2019-08-02 14:28:45 2019-08-01 04:29:54 2019-08-01 04:29:56   \n",
       "\n",
       "event_name       PaymentScreenSuccessful Tutorial  \n",
       "user_id                                            \n",
       "6888746892508752                     NaT      NaT  \n",
       "6909561520679493     2019-08-06 18:52:58      NaT  \n",
       "6922444491712477     2019-08-04 14:19:40      NaT  \n",
       "7435777799948366                     NaT      NaT  \n",
       "7702139951469979     2019-08-02 14:28:45      NaT  "
      ]
     },
     "execution_count": 88,
     "metadata": {},
     "output_type": "execute_result"
    }
   ],
   "source": [
    "users_events_pivot = df_new_dates.pivot_table(\n",
    "    index='user_id', \n",
    "    columns='event_name', \n",
    "    values='date_hour',\n",
    "    aggfunc='min')\n",
    "\n",
    "users_events_pivot.head()"
   ]
  },
  {
   "cell_type": "code",
   "execution_count": 89,
   "metadata": {},
   "outputs": [
    {
     "name": "stdout",
     "output_type": "stream",
     "text": [
      "Se visualiza la pantalla principal: 7423\n",
      "Se visualiza la pantalla de productos: 4203\n",
      "Se visualiza el carrito de compras: 1781\n",
      "Se efectúa el pago de la compra: 458\n"
     ]
    }
   ],
   "source": [
    "#Se colocan en variables las condiciones de filtrado de la tabla dinámica\n",
    "#Se coloca la condición de horario mayor de una etapa a la siguiente, para asegurarnos que no existen etapas con horarios erróneos en el análisis\n",
    "step_1 = ~users_events_pivot['MainScreenAppear'].isna()\n",
    "step_2 = step_1 & (users_events_pivot['OffersScreenAppear'] > users_events_pivot['MainScreenAppear'])\n",
    "step_3 = step_2 & (users_events_pivot['CartScreenAppear'] > users_events_pivot['OffersScreenAppear'])\n",
    "step_4 = step_3 & (users_events_pivot['PaymentScreenSuccessful'] > users_events_pivot['CartScreenAppear'])\n",
    "\n",
    "n_main_screen = users_events_pivot[step_1].shape[0]\n",
    "n_offer_screen = users_events_pivot[step_2].shape[0]\n",
    "n_cart_screen = users_events_pivot[step_3].shape[0]\n",
    "n_payment_screen = users_events_pivot[step_4].shape[0]\n",
    "\n",
    "print('Se visualiza la pantalla principal:', n_main_screen)\n",
    "print('Se visualiza la pantalla de productos:', n_offer_screen)\n",
    "print('Se visualiza el carrito de compras:', n_cart_screen)\n",
    "print('Se efectúa el pago de la compra:', n_payment_screen)"
   ]
  },
  {
   "cell_type": "code",
   "execution_count": 90,
   "metadata": {},
   "outputs": [
    {
     "data": {
      "application/vnd.plotly.v1+json": {
       "config": {
        "plotlyServerURL": "https://plot.ly"
       },
       "data": [
        {
         "type": "funnel",
         "x": [
          7423,
          4203,
          1781,
          458
         ],
         "y": [
          "MainScreenAppear",
          "OffersScreenAppear",
          "CartScreenAppear",
          "PaymentScreenSuccessful"
         ]
        }
       ],
       "layout": {
        "template": {
         "data": {
          "bar": [
           {
            "error_x": {
             "color": "#2a3f5f"
            },
            "error_y": {
             "color": "#2a3f5f"
            },
            "marker": {
             "line": {
              "color": "#E5ECF6",
              "width": 0.5
             },
             "pattern": {
              "fillmode": "overlay",
              "size": 10,
              "solidity": 0.2
             }
            },
            "type": "bar"
           }
          ],
          "barpolar": [
           {
            "marker": {
             "line": {
              "color": "#E5ECF6",
              "width": 0.5
             },
             "pattern": {
              "fillmode": "overlay",
              "size": 10,
              "solidity": 0.2
             }
            },
            "type": "barpolar"
           }
          ],
          "carpet": [
           {
            "aaxis": {
             "endlinecolor": "#2a3f5f",
             "gridcolor": "white",
             "linecolor": "white",
             "minorgridcolor": "white",
             "startlinecolor": "#2a3f5f"
            },
            "baxis": {
             "endlinecolor": "#2a3f5f",
             "gridcolor": "white",
             "linecolor": "white",
             "minorgridcolor": "white",
             "startlinecolor": "#2a3f5f"
            },
            "type": "carpet"
           }
          ],
          "choropleth": [
           {
            "colorbar": {
             "outlinewidth": 0,
             "ticks": ""
            },
            "type": "choropleth"
           }
          ],
          "contour": [
           {
            "colorbar": {
             "outlinewidth": 0,
             "ticks": ""
            },
            "colorscale": [
             [
              0,
              "#0d0887"
             ],
             [
              0.1111111111111111,
              "#46039f"
             ],
             [
              0.2222222222222222,
              "#7201a8"
             ],
             [
              0.3333333333333333,
              "#9c179e"
             ],
             [
              0.4444444444444444,
              "#bd3786"
             ],
             [
              0.5555555555555556,
              "#d8576b"
             ],
             [
              0.6666666666666666,
              "#ed7953"
             ],
             [
              0.7777777777777778,
              "#fb9f3a"
             ],
             [
              0.8888888888888888,
              "#fdca26"
             ],
             [
              1,
              "#f0f921"
             ]
            ],
            "type": "contour"
           }
          ],
          "contourcarpet": [
           {
            "colorbar": {
             "outlinewidth": 0,
             "ticks": ""
            },
            "type": "contourcarpet"
           }
          ],
          "heatmap": [
           {
            "colorbar": {
             "outlinewidth": 0,
             "ticks": ""
            },
            "colorscale": [
             [
              0,
              "#0d0887"
             ],
             [
              0.1111111111111111,
              "#46039f"
             ],
             [
              0.2222222222222222,
              "#7201a8"
             ],
             [
              0.3333333333333333,
              "#9c179e"
             ],
             [
              0.4444444444444444,
              "#bd3786"
             ],
             [
              0.5555555555555556,
              "#d8576b"
             ],
             [
              0.6666666666666666,
              "#ed7953"
             ],
             [
              0.7777777777777778,
              "#fb9f3a"
             ],
             [
              0.8888888888888888,
              "#fdca26"
             ],
             [
              1,
              "#f0f921"
             ]
            ],
            "type": "heatmap"
           }
          ],
          "heatmapgl": [
           {
            "colorbar": {
             "outlinewidth": 0,
             "ticks": ""
            },
            "colorscale": [
             [
              0,
              "#0d0887"
             ],
             [
              0.1111111111111111,
              "#46039f"
             ],
             [
              0.2222222222222222,
              "#7201a8"
             ],
             [
              0.3333333333333333,
              "#9c179e"
             ],
             [
              0.4444444444444444,
              "#bd3786"
             ],
             [
              0.5555555555555556,
              "#d8576b"
             ],
             [
              0.6666666666666666,
              "#ed7953"
             ],
             [
              0.7777777777777778,
              "#fb9f3a"
             ],
             [
              0.8888888888888888,
              "#fdca26"
             ],
             [
              1,
              "#f0f921"
             ]
            ],
            "type": "heatmapgl"
           }
          ],
          "histogram": [
           {
            "marker": {
             "pattern": {
              "fillmode": "overlay",
              "size": 10,
              "solidity": 0.2
             }
            },
            "type": "histogram"
           }
          ],
          "histogram2d": [
           {
            "colorbar": {
             "outlinewidth": 0,
             "ticks": ""
            },
            "colorscale": [
             [
              0,
              "#0d0887"
             ],
             [
              0.1111111111111111,
              "#46039f"
             ],
             [
              0.2222222222222222,
              "#7201a8"
             ],
             [
              0.3333333333333333,
              "#9c179e"
             ],
             [
              0.4444444444444444,
              "#bd3786"
             ],
             [
              0.5555555555555556,
              "#d8576b"
             ],
             [
              0.6666666666666666,
              "#ed7953"
             ],
             [
              0.7777777777777778,
              "#fb9f3a"
             ],
             [
              0.8888888888888888,
              "#fdca26"
             ],
             [
              1,
              "#f0f921"
             ]
            ],
            "type": "histogram2d"
           }
          ],
          "histogram2dcontour": [
           {
            "colorbar": {
             "outlinewidth": 0,
             "ticks": ""
            },
            "colorscale": [
             [
              0,
              "#0d0887"
             ],
             [
              0.1111111111111111,
              "#46039f"
             ],
             [
              0.2222222222222222,
              "#7201a8"
             ],
             [
              0.3333333333333333,
              "#9c179e"
             ],
             [
              0.4444444444444444,
              "#bd3786"
             ],
             [
              0.5555555555555556,
              "#d8576b"
             ],
             [
              0.6666666666666666,
              "#ed7953"
             ],
             [
              0.7777777777777778,
              "#fb9f3a"
             ],
             [
              0.8888888888888888,
              "#fdca26"
             ],
             [
              1,
              "#f0f921"
             ]
            ],
            "type": "histogram2dcontour"
           }
          ],
          "mesh3d": [
           {
            "colorbar": {
             "outlinewidth": 0,
             "ticks": ""
            },
            "type": "mesh3d"
           }
          ],
          "parcoords": [
           {
            "line": {
             "colorbar": {
              "outlinewidth": 0,
              "ticks": ""
             }
            },
            "type": "parcoords"
           }
          ],
          "pie": [
           {
            "automargin": true,
            "type": "pie"
           }
          ],
          "scatter": [
           {
            "fillpattern": {
             "fillmode": "overlay",
             "size": 10,
             "solidity": 0.2
            },
            "type": "scatter"
           }
          ],
          "scatter3d": [
           {
            "line": {
             "colorbar": {
              "outlinewidth": 0,
              "ticks": ""
             }
            },
            "marker": {
             "colorbar": {
              "outlinewidth": 0,
              "ticks": ""
             }
            },
            "type": "scatter3d"
           }
          ],
          "scattercarpet": [
           {
            "marker": {
             "colorbar": {
              "outlinewidth": 0,
              "ticks": ""
             }
            },
            "type": "scattercarpet"
           }
          ],
          "scattergeo": [
           {
            "marker": {
             "colorbar": {
              "outlinewidth": 0,
              "ticks": ""
             }
            },
            "type": "scattergeo"
           }
          ],
          "scattergl": [
           {
            "marker": {
             "colorbar": {
              "outlinewidth": 0,
              "ticks": ""
             }
            },
            "type": "scattergl"
           }
          ],
          "scattermapbox": [
           {
            "marker": {
             "colorbar": {
              "outlinewidth": 0,
              "ticks": ""
             }
            },
            "type": "scattermapbox"
           }
          ],
          "scatterpolar": [
           {
            "marker": {
             "colorbar": {
              "outlinewidth": 0,
              "ticks": ""
             }
            },
            "type": "scatterpolar"
           }
          ],
          "scatterpolargl": [
           {
            "marker": {
             "colorbar": {
              "outlinewidth": 0,
              "ticks": ""
             }
            },
            "type": "scatterpolargl"
           }
          ],
          "scatterternary": [
           {
            "marker": {
             "colorbar": {
              "outlinewidth": 0,
              "ticks": ""
             }
            },
            "type": "scatterternary"
           }
          ],
          "surface": [
           {
            "colorbar": {
             "outlinewidth": 0,
             "ticks": ""
            },
            "colorscale": [
             [
              0,
              "#0d0887"
             ],
             [
              0.1111111111111111,
              "#46039f"
             ],
             [
              0.2222222222222222,
              "#7201a8"
             ],
             [
              0.3333333333333333,
              "#9c179e"
             ],
             [
              0.4444444444444444,
              "#bd3786"
             ],
             [
              0.5555555555555556,
              "#d8576b"
             ],
             [
              0.6666666666666666,
              "#ed7953"
             ],
             [
              0.7777777777777778,
              "#fb9f3a"
             ],
             [
              0.8888888888888888,
              "#fdca26"
             ],
             [
              1,
              "#f0f921"
             ]
            ],
            "type": "surface"
           }
          ],
          "table": [
           {
            "cells": {
             "fill": {
              "color": "#EBF0F8"
             },
             "line": {
              "color": "white"
             }
            },
            "header": {
             "fill": {
              "color": "#C8D4E3"
             },
             "line": {
              "color": "white"
             }
            },
            "type": "table"
           }
          ]
         },
         "layout": {
          "annotationdefaults": {
           "arrowcolor": "#2a3f5f",
           "arrowhead": 0,
           "arrowwidth": 1
          },
          "autotypenumbers": "strict",
          "coloraxis": {
           "colorbar": {
            "outlinewidth": 0,
            "ticks": ""
           }
          },
          "colorscale": {
           "diverging": [
            [
             0,
             "#8e0152"
            ],
            [
             0.1,
             "#c51b7d"
            ],
            [
             0.2,
             "#de77ae"
            ],
            [
             0.3,
             "#f1b6da"
            ],
            [
             0.4,
             "#fde0ef"
            ],
            [
             0.5,
             "#f7f7f7"
            ],
            [
             0.6,
             "#e6f5d0"
            ],
            [
             0.7,
             "#b8e186"
            ],
            [
             0.8,
             "#7fbc41"
            ],
            [
             0.9,
             "#4d9221"
            ],
            [
             1,
             "#276419"
            ]
           ],
           "sequential": [
            [
             0,
             "#0d0887"
            ],
            [
             0.1111111111111111,
             "#46039f"
            ],
            [
             0.2222222222222222,
             "#7201a8"
            ],
            [
             0.3333333333333333,
             "#9c179e"
            ],
            [
             0.4444444444444444,
             "#bd3786"
            ],
            [
             0.5555555555555556,
             "#d8576b"
            ],
            [
             0.6666666666666666,
             "#ed7953"
            ],
            [
             0.7777777777777778,
             "#fb9f3a"
            ],
            [
             0.8888888888888888,
             "#fdca26"
            ],
            [
             1,
             "#f0f921"
            ]
           ],
           "sequentialminus": [
            [
             0,
             "#0d0887"
            ],
            [
             0.1111111111111111,
             "#46039f"
            ],
            [
             0.2222222222222222,
             "#7201a8"
            ],
            [
             0.3333333333333333,
             "#9c179e"
            ],
            [
             0.4444444444444444,
             "#bd3786"
            ],
            [
             0.5555555555555556,
             "#d8576b"
            ],
            [
             0.6666666666666666,
             "#ed7953"
            ],
            [
             0.7777777777777778,
             "#fb9f3a"
            ],
            [
             0.8888888888888888,
             "#fdca26"
            ],
            [
             1,
             "#f0f921"
            ]
           ]
          },
          "colorway": [
           "#636efa",
           "#EF553B",
           "#00cc96",
           "#ab63fa",
           "#FFA15A",
           "#19d3f3",
           "#FF6692",
           "#B6E880",
           "#FF97FF",
           "#FECB52"
          ],
          "font": {
           "color": "#2a3f5f"
          },
          "geo": {
           "bgcolor": "white",
           "lakecolor": "white",
           "landcolor": "#E5ECF6",
           "showlakes": true,
           "showland": true,
           "subunitcolor": "white"
          },
          "hoverlabel": {
           "align": "left"
          },
          "hovermode": "closest",
          "mapbox": {
           "style": "light"
          },
          "paper_bgcolor": "white",
          "plot_bgcolor": "#E5ECF6",
          "polar": {
           "angularaxis": {
            "gridcolor": "white",
            "linecolor": "white",
            "ticks": ""
           },
           "bgcolor": "#E5ECF6",
           "radialaxis": {
            "gridcolor": "white",
            "linecolor": "white",
            "ticks": ""
           }
          },
          "scene": {
           "xaxis": {
            "backgroundcolor": "#E5ECF6",
            "gridcolor": "white",
            "gridwidth": 2,
            "linecolor": "white",
            "showbackground": true,
            "ticks": "",
            "zerolinecolor": "white"
           },
           "yaxis": {
            "backgroundcolor": "#E5ECF6",
            "gridcolor": "white",
            "gridwidth": 2,
            "linecolor": "white",
            "showbackground": true,
            "ticks": "",
            "zerolinecolor": "white"
           },
           "zaxis": {
            "backgroundcolor": "#E5ECF6",
            "gridcolor": "white",
            "gridwidth": 2,
            "linecolor": "white",
            "showbackground": true,
            "ticks": "",
            "zerolinecolor": "white"
           }
          },
          "shapedefaults": {
           "line": {
            "color": "#2a3f5f"
           }
          },
          "ternary": {
           "aaxis": {
            "gridcolor": "white",
            "linecolor": "white",
            "ticks": ""
           },
           "baxis": {
            "gridcolor": "white",
            "linecolor": "white",
            "ticks": ""
           },
           "bgcolor": "#E5ECF6",
           "caxis": {
            "gridcolor": "white",
            "linecolor": "white",
            "ticks": ""
           }
          },
          "title": {
           "x": 0.05
          },
          "xaxis": {
           "automargin": true,
           "gridcolor": "white",
           "linecolor": "white",
           "ticks": "",
           "title": {
            "standoff": 15
           },
           "zerolinecolor": "white",
           "zerolinewidth": 2
          },
          "yaxis": {
           "automargin": true,
           "gridcolor": "white",
           "linecolor": "white",
           "ticks": "",
           "title": {
            "standoff": 15
           },
           "zerolinecolor": "white",
           "zerolinewidth": 2
          }
         }
        }
       }
      }
     },
     "metadata": {},
     "output_type": "display_data"
    }
   ],
   "source": [
    "fig = go.Figure(go.Funnel(\n",
    "    y = [\"MainScreenAppear\",\"OffersScreenAppear\", \"CartScreenAppear\", \"PaymentScreenSuccessful\"],\n",
    "    x = [n_main_screen, n_offer_screen,  n_cart_screen, n_payment_screen]\n",
    "    ))\n",
    "fig.show()"
   ]
  },
  {
   "cell_type": "markdown",
   "metadata": {},
   "source": [
    "Se observa que el número de usuarios en la primera etapa coincide con el valor calculado anteriormente para la misma, pero en las etapas siguientes son diferentes. Esto quiere decir que no todos los usuarios toman la ruta prevista."
   ]
  },
  {
   "cell_type": "markdown",
   "metadata": {},
   "source": [
    "### 4.5 Etapas de pérdida"
   ]
  },
  {
   "cell_type": "markdown",
   "metadata": {},
   "source": [
    "Según se observa en el embudo representado anteriormente, la etapa en donde más se pierden usuarios es en la correspondiente al pago exitoso (25.7% de la etapa previa), seguida por la etapa de visualización del carrito (42.4% de la etapa anterior).  \n",
    "\n",
    "Esto puede indicar que existe algo en la página de pago que desmotiva a los usuarios a terminar con el proceso de compra."
   ]
  },
  {
   "cell_type": "markdown",
   "metadata": {},
   "source": [
    "### 4.6 Usuarios que concluyen el proceso"
   ]
  },
  {
   "cell_type": "markdown",
   "metadata": {},
   "source": [
    "Según se observa en el embudo representado anteriormente, solamente el **6.2%** de los usuarios que tienen como primer evento la \"visualización de la pantalla principal\" llegan hasta el final del viaje, concluyendo con el pago."
   ]
  },
  {
   "cell_type": "markdown",
   "metadata": {},
   "source": [
    "## 5. Análisis del experimento A/A/B"
   ]
  },
  {
   "cell_type": "markdown",
   "metadata": {},
   "source": [
    "### 5.1 Cantidad de usuarios por grupo"
   ]
  },
  {
   "cell_type": "markdown",
   "metadata": {},
   "source": [
    "A continuación, se determina la cantidad de usuarios que están incluidos en cada grupo, donde:  \n",
    "* Grupo 246: grupo de control (A) con las fuentes antiguas.  \n",
    "* Grupo 247: grupo de control (A) con las fuentes antiguas.  \n",
    "* Grupo 248: grupo de prueba (B) con las fuentes nuevas.  \n",
    "\n",
    "También se crearán dataframes filtrados con los registros de cada grupo, visualizando su información general."
   ]
  },
  {
   "cell_type": "code",
   "execution_count": 91,
   "metadata": {},
   "outputs": [
    {
     "data": {
      "text/html": [
       "<div>\n",
       "<style scoped>\n",
       "    .dataframe tbody tr th:only-of-type {\n",
       "        vertical-align: middle;\n",
       "    }\n",
       "\n",
       "    .dataframe tbody tr th {\n",
       "        vertical-align: top;\n",
       "    }\n",
       "\n",
       "    .dataframe thead th {\n",
       "        text-align: right;\n",
       "    }\n",
       "</style>\n",
       "<table border=\"1\" class=\"dataframe\">\n",
       "  <thead>\n",
       "    <tr style=\"text-align: right;\">\n",
       "      <th></th>\n",
       "      <th>user_id</th>\n",
       "    </tr>\n",
       "    <tr>\n",
       "      <th>group</th>\n",
       "      <th></th>\n",
       "    </tr>\n",
       "  </thead>\n",
       "  <tbody>\n",
       "    <tr>\n",
       "      <th>246</th>\n",
       "      <td>2484</td>\n",
       "    </tr>\n",
       "    <tr>\n",
       "      <th>247</th>\n",
       "      <td>2517</td>\n",
       "    </tr>\n",
       "    <tr>\n",
       "      <th>248</th>\n",
       "      <td>2537</td>\n",
       "    </tr>\n",
       "  </tbody>\n",
       "</table>\n",
       "</div>"
      ],
      "text/plain": [
       "       user_id\n",
       "group         \n",
       "246       2484\n",
       "247       2517\n",
       "248       2537"
      ]
     },
     "execution_count": 91,
     "metadata": {},
     "output_type": "execute_result"
    }
   ],
   "source": [
    "df_new_dates.groupby('group').agg({'user_id': 'nunique'})"
   ]
  },
  {
   "cell_type": "code",
   "execution_count": 92,
   "metadata": {},
   "outputs": [
    {
     "name": "stdout",
     "output_type": "stream",
     "text": [
      "Grupo de control 246:\n",
      "<class 'pandas.core.frame.DataFrame'>\n",
      "Index: 79556 entries, 1996 to 244125\n",
      "Data columns (total 6 columns):\n",
      " #   Column      Non-Null Count  Dtype         \n",
      "---  ------      --------------  -----         \n",
      " 0   event_name  79556 non-null  object        \n",
      " 1   user_id     79556 non-null  int64         \n",
      " 2   event_time  79556 non-null  int64         \n",
      " 3   group       79556 non-null  int64         \n",
      " 4   date_hour   79556 non-null  datetime64[ns]\n",
      " 5   date        79556 non-null  datetime64[ns]\n",
      "dtypes: datetime64[ns](2), int64(3), object(1)\n",
      "memory usage: 4.2+ MB\n",
      "None\n",
      "\n",
      "Grupo de control 247:\n",
      "<class 'pandas.core.frame.DataFrame'>\n",
      "Index: 77293 entries, 1990 to 244121\n",
      "Data columns (total 6 columns):\n",
      " #   Column      Non-Null Count  Dtype         \n",
      "---  ------      --------------  -----         \n",
      " 0   event_name  77293 non-null  object        \n",
      " 1   user_id     77293 non-null  int64         \n",
      " 2   event_time  77293 non-null  int64         \n",
      " 3   group       77293 non-null  int64         \n",
      " 4   date_hour   77293 non-null  datetime64[ns]\n",
      " 5   date        77293 non-null  datetime64[ns]\n",
      "dtypes: datetime64[ns](2), int64(3), object(1)\n",
      "memory usage: 4.1+ MB\n",
      "None\n",
      "\n",
      "Grupo de prueba 248:\n",
      "<class 'pandas.core.frame.DataFrame'>\n",
      "Index: 84875 entries, 1992 to 244115\n",
      "Data columns (total 6 columns):\n",
      " #   Column      Non-Null Count  Dtype         \n",
      "---  ------      --------------  -----         \n",
      " 0   event_name  84875 non-null  object        \n",
      " 1   user_id     84875 non-null  int64         \n",
      " 2   event_time  84875 non-null  int64         \n",
      " 3   group       84875 non-null  int64         \n",
      " 4   date_hour   84875 non-null  datetime64[ns]\n",
      " 5   date        84875 non-null  datetime64[ns]\n",
      "dtypes: datetime64[ns](2), int64(3), object(1)\n",
      "memory usage: 4.5+ MB\n",
      "None\n"
     ]
    }
   ],
   "source": [
    "group_246 = df_new_dates.query('group == 246')\n",
    "group_247 = df_new_dates.query('group == 247')\n",
    "group_248 = df_new_dates.query('group == 248')\n",
    "print('Grupo de control 246:')\n",
    "print(group_246.info())\n",
    "print()\n",
    "print('Grupo de control 247:')\n",
    "print(group_247.info())\n",
    "print()\n",
    "print('Grupo de prueba 248:')\n",
    "print(group_248.info())"
   ]
  },
  {
   "cell_type": "markdown",
   "metadata": {},
   "source": [
    "### 5.2 Grupos de control - prueba A/A"
   ]
  },
  {
   "cell_type": "markdown",
   "metadata": {},
   "source": [
    "Los grupos de control se utilizan para comprobar los mecanismos y cálculos.  \n",
    "\n",
    "Se estudiará primeramente si hay una diferencia estadísticamente significativa entre ambos grupos. Para esto, se evaluará:  \n",
    "* Si el número de usuarios de las muestras no varían en más del 1%.  \n",
    "* Si ambas muestras no presentan una diferencia estadísticamente significativa, evaluando las proporciones entre cantidad de usuarios diferentes, y cantidades de registros de los mismos. Para esto, se utiliza el *estadístico* para analizar las siguientes hipótesis:  \n",
    "    * Hipótesis nula: las proporciones de ambas muestras son iguales.\n",
    "    * Hipótesis alternativa: las proporciones de ambas muestras son diferentes."
   ]
  },
  {
   "cell_type": "code",
   "execution_count": 93,
   "metadata": {},
   "outputs": [
    {
     "name": "stdout",
     "output_type": "stream",
     "text": [
      "Usuarios únicos en grupo 246: 2484\n",
      "Usuarios únicos en grupo 247: 2517\n",
      "\n",
      "Diferencia en cantidad de usuarios: 1.328502415458937 %\n"
     ]
    }
   ],
   "source": [
    "#Variación del número de usuarios\n",
    "print('Usuarios únicos en grupo 246:', group_246['user_id'].nunique())\n",
    "print('Usuarios únicos en grupo 247:', group_247['user_id'].nunique())\n",
    "print()\n",
    "print('Diferencia en cantidad de usuarios:', (abs(group_246['user_id'].nunique() - group_247['user_id'].nunique())/min(group_246['user_id'].nunique(), group_247['user_id'].nunique()))*100, '%')\n"
   ]
  },
  {
   "cell_type": "code",
   "execution_count": 94,
   "metadata": {},
   "outputs": [
    {
     "name": "stdout",
     "output_type": "stream",
     "text": [
      "p-value:  0.13068747454697083\n",
      "No se pudo rechazar la hipótesis nula: no hay razón para pensar que las proporciones son diferentes\n"
     ]
    }
   ],
   "source": [
    "#Diferencia estadísticamente significativa en las proporciones de los grupos de control\n",
    "\n",
    "alpha = 0.05 #Nivel de significación\n",
    "\n",
    "control_users = np.array([group_246['user_id'].nunique(), group_247['user_id'].nunique()]) #Cantidad de usuarios únicos de cada grupo de control\n",
    "control_total = np.array([group_246.shape[0], group_247.shape[0]]) #Cantidad de registros de cada grupo de control\n",
    "\n",
    "p1 = control_users[0] / control_total[0]\n",
    "p2 = control_users[1] / control_total[1]\n",
    "p_combined = (control_users[0] + control_users[1]) / (control_total[0] + control_total[1])\n",
    "\n",
    "difference = p1 - p2\n",
    "\n",
    "z_value = difference / mth.sqrt(p_combined * (1 - p_combined) * (1/control_total[0] + 1/control_total[1])) #Cálculo estadístico\n",
    "\n",
    "distr = st.norm(0, 1) #Se establece la distribución normal estándar\n",
    "\n",
    "p_value = (1 - distr.cdf(abs(z_value))) * 2 #Se calcula el p-value. Se multiplica por dos para considerar las dos colas de la curva.\n",
    "\n",
    "print('p-value: ', p_value)\n",
    "\n",
    "if p_value < alpha:\n",
    "    print(\"Rechazar la hipótesis nula: hay una diferencia significativa entre las proporciones\")\n",
    "else:\n",
    "    print(\"No se pudo rechazar la hipótesis nula: no hay razón para pensar que las proporciones son diferentes\")"
   ]
  },
  {
   "cell_type": "markdown",
   "metadata": {},
   "source": [
    "Por lo observado, los grupos de control poseen una diferencia en cantidad de usuarios levemente superior al 1%, y se verifica que no hay una diferencia estadísticamente significativa en las proporciones entre usuarios y registros en ambos grupos de control."
   ]
  },
  {
   "cell_type": "markdown",
   "metadata": {},
   "source": [
    "### 5.3 Grupos de control - Proporciones de usuarios"
   ]
  },
  {
   "cell_type": "markdown",
   "metadata": {},
   "source": [
    "Se estudiará a continuación para los grupos de control cuál es el evento más popular en cada uno y cuántos usuarios lo realizaron, calculando las proporciones de los mismos. Luego se analizará si las proporciones presentan una diferencia estadísticamente significativa.  \n",
    "\n",
    "Posteriormente se repetirá dicho análisis para cada evento.  \n",
    "\n",
    "Al analizar las proporciones, se definen las hipótesis:  \n",
    "* Hipótesis nula: las proporciones de ambas muestras son iguales.\n",
    "* Hipótesis alternativa: las proporciones de ambas muestras son diferentes."
   ]
  },
  {
   "cell_type": "code",
   "execution_count": 95,
   "metadata": {},
   "outputs": [
    {
     "name": "stdout",
     "output_type": "stream",
     "text": [
      "Grupo de control 246:\n"
     ]
    },
    {
     "data": {
      "text/html": [
       "<div>\n",
       "<style scoped>\n",
       "    .dataframe tbody tr th:only-of-type {\n",
       "        vertical-align: middle;\n",
       "    }\n",
       "\n",
       "    .dataframe tbody tr th {\n",
       "        vertical-align: top;\n",
       "    }\n",
       "\n",
       "    .dataframe thead th {\n",
       "        text-align: right;\n",
       "    }\n",
       "</style>\n",
       "<table border=\"1\" class=\"dataframe\">\n",
       "  <thead>\n",
       "    <tr style=\"text-align: right;\">\n",
       "      <th></th>\n",
       "      <th>event_name</th>\n",
       "      <th>event_count</th>\n",
       "    </tr>\n",
       "  </thead>\n",
       "  <tbody>\n",
       "    <tr>\n",
       "      <th>0</th>\n",
       "      <td>MainScreenAppear</td>\n",
       "      <td>37855</td>\n",
       "    </tr>\n",
       "    <tr>\n",
       "      <th>1</th>\n",
       "      <td>OffersScreenAppear</td>\n",
       "      <td>14829</td>\n",
       "    </tr>\n",
       "    <tr>\n",
       "      <th>2</th>\n",
       "      <td>CartScreenAppear</td>\n",
       "      <td>14697</td>\n",
       "    </tr>\n",
       "    <tr>\n",
       "      <th>3</th>\n",
       "      <td>PaymentScreenSuccessful</td>\n",
       "      <td>11858</td>\n",
       "    </tr>\n",
       "    <tr>\n",
       "      <th>4</th>\n",
       "      <td>Tutorial</td>\n",
       "      <td>317</td>\n",
       "    </tr>\n",
       "  </tbody>\n",
       "</table>\n",
       "</div>"
      ],
      "text/plain": [
       "                event_name  event_count\n",
       "0         MainScreenAppear        37855\n",
       "1       OffersScreenAppear        14829\n",
       "2         CartScreenAppear        14697\n",
       "3  PaymentScreenSuccessful        11858\n",
       "4                 Tutorial          317"
      ]
     },
     "metadata": {},
     "output_type": "display_data"
    },
    {
     "name": "stdout",
     "output_type": "stream",
     "text": [
      "\n",
      "Grupo de control 247:\n"
     ]
    },
    {
     "data": {
      "text/html": [
       "<div>\n",
       "<style scoped>\n",
       "    .dataframe tbody tr th:only-of-type {\n",
       "        vertical-align: middle;\n",
       "    }\n",
       "\n",
       "    .dataframe tbody tr th {\n",
       "        vertical-align: top;\n",
       "    }\n",
       "\n",
       "    .dataframe thead th {\n",
       "        text-align: right;\n",
       "    }\n",
       "</style>\n",
       "<table border=\"1\" class=\"dataframe\">\n",
       "  <thead>\n",
       "    <tr style=\"text-align: right;\">\n",
       "      <th></th>\n",
       "      <th>event_name</th>\n",
       "      <th>event_count</th>\n",
       "    </tr>\n",
       "  </thead>\n",
       "  <tbody>\n",
       "    <tr>\n",
       "      <th>0</th>\n",
       "      <td>MainScreenAppear</td>\n",
       "      <td>39294</td>\n",
       "    </tr>\n",
       "    <tr>\n",
       "      <th>1</th>\n",
       "      <td>OffersScreenAppear</td>\n",
       "      <td>15237</td>\n",
       "    </tr>\n",
       "    <tr>\n",
       "      <th>2</th>\n",
       "      <td>CartScreenAppear</td>\n",
       "      <td>12439</td>\n",
       "    </tr>\n",
       "    <tr>\n",
       "      <th>3</th>\n",
       "      <td>PaymentScreenSuccessful</td>\n",
       "      <td>9983</td>\n",
       "    </tr>\n",
       "    <tr>\n",
       "      <th>4</th>\n",
       "      <td>Tutorial</td>\n",
       "      <td>340</td>\n",
       "    </tr>\n",
       "  </tbody>\n",
       "</table>\n",
       "</div>"
      ],
      "text/plain": [
       "                event_name  event_count\n",
       "0         MainScreenAppear        39294\n",
       "1       OffersScreenAppear        15237\n",
       "2         CartScreenAppear        12439\n",
       "3  PaymentScreenSuccessful         9983\n",
       "4                 Tutorial          340"
      ]
     },
     "metadata": {},
     "output_type": "display_data"
    }
   ],
   "source": [
    "#Dataframes con el conteo de registros de eventos de cada grupo\n",
    "\n",
    "group_246_events = group_246.groupby('event_name').agg({'user_id':'count'}).sort_values(by='user_id', ascending=False).reset_index()\n",
    "group_246_events.columns = ['event_name', 'event_count']\n",
    "print('Grupo de control 246:')\n",
    "display(group_246_events)\n",
    "\n",
    "print()\n",
    "\n",
    "group_247_events = group_247.groupby('event_name').agg({'user_id':'count'}).sort_values(by='user_id', ascending=False).reset_index()\n",
    "group_247_events.columns = ['event_name', 'event_count']\n",
    "print('Grupo de control 247:')\n",
    "display(group_247_events)"
   ]
  },
  {
   "cell_type": "markdown",
   "metadata": {},
   "source": [
    "El evento más ejecutado por ambos grupos de control es el **\"MainScreenAppear\"**.  \n",
    "Se calculará a continuación la cantidad de usuarios que ejecutaron cada acción, para cada grupo, y su proporción del total de usuarios únicos."
   ]
  },
  {
   "cell_type": "code",
   "execution_count": 96,
   "metadata": {},
   "outputs": [
    {
     "name": "stdout",
     "output_type": "stream",
     "text": [
      "Grupo de control 246:\n"
     ]
    },
    {
     "data": {
      "text/html": [
       "<div>\n",
       "<style scoped>\n",
       "    .dataframe tbody tr th:only-of-type {\n",
       "        vertical-align: middle;\n",
       "    }\n",
       "\n",
       "    .dataframe tbody tr th {\n",
       "        vertical-align: top;\n",
       "    }\n",
       "\n",
       "    .dataframe thead th {\n",
       "        text-align: right;\n",
       "    }\n",
       "</style>\n",
       "<table border=\"1\" class=\"dataframe\">\n",
       "  <thead>\n",
       "    <tr style=\"text-align: right;\">\n",
       "      <th></th>\n",
       "      <th>event_name</th>\n",
       "      <th>users_count</th>\n",
       "      <th>proportion</th>\n",
       "    </tr>\n",
       "  </thead>\n",
       "  <tbody>\n",
       "    <tr>\n",
       "      <th>0</th>\n",
       "      <td>MainScreenAppear</td>\n",
       "      <td>2450</td>\n",
       "      <td>0.986312</td>\n",
       "    </tr>\n",
       "    <tr>\n",
       "      <th>1</th>\n",
       "      <td>OffersScreenAppear</td>\n",
       "      <td>1542</td>\n",
       "      <td>0.620773</td>\n",
       "    </tr>\n",
       "    <tr>\n",
       "      <th>2</th>\n",
       "      <td>CartScreenAppear</td>\n",
       "      <td>1266</td>\n",
       "      <td>0.509662</td>\n",
       "    </tr>\n",
       "    <tr>\n",
       "      <th>3</th>\n",
       "      <td>PaymentScreenSuccessful</td>\n",
       "      <td>1200</td>\n",
       "      <td>0.483092</td>\n",
       "    </tr>\n",
       "    <tr>\n",
       "      <th>4</th>\n",
       "      <td>Tutorial</td>\n",
       "      <td>278</td>\n",
       "      <td>0.111916</td>\n",
       "    </tr>\n",
       "  </tbody>\n",
       "</table>\n",
       "</div>"
      ],
      "text/plain": [
       "                event_name  users_count  proportion\n",
       "0         MainScreenAppear         2450    0.986312\n",
       "1       OffersScreenAppear         1542    0.620773\n",
       "2         CartScreenAppear         1266    0.509662\n",
       "3  PaymentScreenSuccessful         1200    0.483092\n",
       "4                 Tutorial          278    0.111916"
      ]
     },
     "metadata": {},
     "output_type": "display_data"
    },
    {
     "name": "stdout",
     "output_type": "stream",
     "text": [
      "\n",
      "Grupo de control 247:\n"
     ]
    },
    {
     "data": {
      "text/html": [
       "<div>\n",
       "<style scoped>\n",
       "    .dataframe tbody tr th:only-of-type {\n",
       "        vertical-align: middle;\n",
       "    }\n",
       "\n",
       "    .dataframe tbody tr th {\n",
       "        vertical-align: top;\n",
       "    }\n",
       "\n",
       "    .dataframe thead th {\n",
       "        text-align: right;\n",
       "    }\n",
       "</style>\n",
       "<table border=\"1\" class=\"dataframe\">\n",
       "  <thead>\n",
       "    <tr style=\"text-align: right;\">\n",
       "      <th></th>\n",
       "      <th>event_name</th>\n",
       "      <th>users_count</th>\n",
       "      <th>proportion</th>\n",
       "    </tr>\n",
       "  </thead>\n",
       "  <tbody>\n",
       "    <tr>\n",
       "      <th>0</th>\n",
       "      <td>MainScreenAppear</td>\n",
       "      <td>2479</td>\n",
       "      <td>0.984903</td>\n",
       "    </tr>\n",
       "    <tr>\n",
       "      <th>1</th>\n",
       "      <td>OffersScreenAppear</td>\n",
       "      <td>1524</td>\n",
       "      <td>0.605483</td>\n",
       "    </tr>\n",
       "    <tr>\n",
       "      <th>2</th>\n",
       "      <td>CartScreenAppear</td>\n",
       "      <td>1239</td>\n",
       "      <td>0.492253</td>\n",
       "    </tr>\n",
       "    <tr>\n",
       "      <th>3</th>\n",
       "      <td>PaymentScreenSuccessful</td>\n",
       "      <td>1158</td>\n",
       "      <td>0.460072</td>\n",
       "    </tr>\n",
       "    <tr>\n",
       "      <th>4</th>\n",
       "      <td>Tutorial</td>\n",
       "      <td>284</td>\n",
       "      <td>0.112833</td>\n",
       "    </tr>\n",
       "  </tbody>\n",
       "</table>\n",
       "</div>"
      ],
      "text/plain": [
       "                event_name  users_count  proportion\n",
       "0         MainScreenAppear         2479    0.984903\n",
       "1       OffersScreenAppear         1524    0.605483\n",
       "2         CartScreenAppear         1239    0.492253\n",
       "3  PaymentScreenSuccessful         1158    0.460072\n",
       "4                 Tutorial          284    0.112833"
      ]
     },
     "metadata": {},
     "output_type": "display_data"
    }
   ],
   "source": [
    "#Dataframes con el conteo de usuarios por cada evento de cada grupo y sus proporciones del total\n",
    "\n",
    "group_246_users = group_246.groupby('event_name').agg({'user_id':'nunique'}).sort_values(by='user_id', ascending=False).reset_index()\n",
    "group_246_users.columns = ['event_name', 'users_count']\n",
    "group_246_users['proportion'] = group_246_users['users_count'] / group_246['user_id'].nunique()\n",
    "print('Grupo de control 246:')\n",
    "display(group_246_users)\n",
    "\n",
    "print()\n",
    "\n",
    "group_247_users = group_247.groupby('event_name').agg({'user_id':'nunique'}).sort_values(by='user_id', ascending=False).reset_index()\n",
    "group_247_users.columns = ['event_name', 'users_count']\n",
    "group_247_users['proportion'] = group_247_users['users_count'] / group_247['user_id'].nunique()\n",
    "print('Grupo de control 247:')\n",
    "display(group_247_users)"
   ]
  },
  {
   "cell_type": "markdown",
   "metadata": {},
   "source": [
    "A continuación se probará la hipótesis de igualdad de proporciones para cada evento, comenzando con el más popular.  \n",
    "\n",
    "Se definirá una función que realice las pruebas de hipótesis para cada evento."
   ]
  },
  {
   "cell_type": "code",
   "execution_count": 97,
   "metadata": {},
   "outputs": [],
   "source": [
    "#Diferencia estadísticamente significativa en las proporciones de los grupos de control\n",
    "\n",
    "alpha = 0.05 #Nivel de significación"
   ]
  },
  {
   "cell_type": "code",
   "execution_count": 98,
   "metadata": {},
   "outputs": [],
   "source": [
    "#Función de prueba de hipótesis de proporciones\n",
    "\n",
    "def test_hyp_proportion(df_1_users, df_1, df_2_users, df_2, name,sign_level):\n",
    "    event_users = np.array([df_1_users.query('event_name == @name').iloc[0,1], df_2_users.query('event_name == @name').iloc[0,1]]) #Cantidad de usuarios únicos de cada grupo de control para el evento\n",
    "    group_total = np.array([df_1['user_id'].nunique(), df_2['user_id'].nunique()]) #Cantidad de usuarios en total\n",
    "\n",
    "    p1 = event_users[0] / group_total[0]\n",
    "    p2 = event_users[1] / group_total[1]\n",
    "    p_combined = (event_users[0] + event_users[1]) / (group_total[0] + group_total[1])\n",
    "\n",
    "    difference = p1 - p2\n",
    "\n",
    "    z_value = difference / mth.sqrt(p_combined * (1 - p_combined) * (1/group_total[0] + 1/group_total[1])) #Cálculo estadístico\n",
    "\n",
    "    distr = st.norm(0, 1) #Se establece la distribución normal estándar\n",
    "\n",
    "    p_value = (1 - distr.cdf(abs(z_value))) * 2 #Se calcula el p-value. Se multiplica por dos para considerar las dos colas de la curva.\n",
    "\n",
    "    print('p-value: ', p_value)\n",
    "\n",
    "    if p_value < sign_level:\n",
    "        print(\"Rechazar la hipótesis nula: hay una diferencia significativa entre las proporciones\")\n",
    "    else:\n",
    "        print(\"No se pudo rechazar la hipótesis nula: no hay razón para pensar que las proporciones son diferentes\")"
   ]
  },
  {
   "cell_type": "markdown",
   "metadata": {},
   "source": [
    "Se ejecuta para el evento más popular (MainScreenAppear), la prueba de hipótesis de proporciones:"
   ]
  },
  {
   "cell_type": "code",
   "execution_count": 99,
   "metadata": {},
   "outputs": [
    {
     "name": "stdout",
     "output_type": "stream",
     "text": [
      "Prueba de hipótesis para el evento MainScreenAppear:\n",
      "p-value:  0.6756217702005545\n",
      "No se pudo rechazar la hipótesis nula: no hay razón para pensar que las proporciones son diferentes\n"
     ]
    }
   ],
   "source": [
    "event_1 = \"MainScreenAppear\"\n",
    "print(f'Prueba de hipótesis para el evento {event_1}:')\n",
    "test_hyp_proportion(group_246_users, group_246, group_247_users, group_247, event_1, alpha)"
   ]
  },
  {
   "cell_type": "markdown",
   "metadata": {},
   "source": [
    "No parece haber una diferencia estadísticamente significativa entre las proporciones de los grupos de control para el evento más popular.  \n",
    "\n",
    "A continuación, se realiza la misma prueba para el resto de los eventos:"
   ]
  },
  {
   "cell_type": "code",
   "execution_count": 100,
   "metadata": {},
   "outputs": [
    {
     "name": "stdout",
     "output_type": "stream",
     "text": [
      "Prueba de hipótesis para el evento OffersScreenAppear:\n",
      "p-value:  0.26698769175859516\n",
      "No se pudo rechazar la hipótesis nula: no hay razón para pensar que las proporciones son diferentes\n",
      "\n",
      "Prueba de hipótesis para el evento CartScreenAppear:\n",
      "p-value:  0.2182812140633792\n",
      "No se pudo rechazar la hipótesis nula: no hay razón para pensar que las proporciones son diferentes\n",
      "\n",
      "Prueba de hipótesis para el evento PaymentScreenSuccessful:\n",
      "p-value:  0.10298394982948822\n",
      "No se pudo rechazar la hipótesis nula: no hay razón para pensar que las proporciones son diferentes\n",
      "\n",
      "Prueba de hipótesis para el evento Tutorial:\n",
      "p-value:  0.9182790262812368\n",
      "No se pudo rechazar la hipótesis nula: no hay razón para pensar que las proporciones son diferentes\n"
     ]
    }
   ],
   "source": [
    "event_2 = \"OffersScreenAppear\"\n",
    "event_3 = \"CartScreenAppear\"\n",
    "event_4 = \"PaymentScreenSuccessful\"\n",
    "event_5 = \"Tutorial\"\n",
    "\n",
    "print(f'Prueba de hipótesis para el evento {event_2}:')\n",
    "test_hyp_proportion(group_246_users, group_246, group_247_users, group_247, event_2, alpha)\n",
    "print()\n",
    "print(f'Prueba de hipótesis para el evento {event_3}:')\n",
    "test_hyp_proportion(group_246_users, group_246, group_247_users, group_247, event_3, alpha)\n",
    "print()\n",
    "print(f'Prueba de hipótesis para el evento {event_4}:')\n",
    "test_hyp_proportion(group_246_users, group_246, group_247_users, group_247, event_4, alpha)\n",
    "print()\n",
    "print(f'Prueba de hipótesis para el evento {event_5}:')\n",
    "test_hyp_proportion(group_246_users, group_246, group_247_users, group_247, event_5, alpha)"
   ]
  },
  {
   "cell_type": "markdown",
   "metadata": {},
   "source": [
    "Conclusiones:  \n",
    "Se confirma que los grupos se dividieron correctamente, ya que no parece existir una diferencia estadísticamente significativa entre las proporciones de los usuarios para cada evento."
   ]
  },
  {
   "cell_type": "markdown",
   "metadata": {},
   "source": [
    "### 5.4 Grupo de prueba B"
   ]
  },
  {
   "cell_type": "markdown",
   "metadata": {},
   "source": [
    "Para el grupo de prueba B, se analizará también la cantidad de registros de cada evento, así como la cantidad de usuarios que realizó cada uno.  \n",
    "\n",
    "Luego se irán comparando, para cada evento, las proporciones de usuarios que ejecutaron cada uno con las correspondientes a los grupos de control, probando si hay diferencias estadísticamente significativas para cada evento, con cada grupo de control, y luego para la combinación de ambos grupos de control.  \n",
    "\n",
    "Por lo tanto, las pruebas que se harán serán:  \n",
    "* 248 vs 246\n",
    "* 248 vs 247\n",
    "* 248 vs (246+247)"
   ]
  },
  {
   "cell_type": "markdown",
   "metadata": {},
   "source": [
    "Se genera para el grupo de prueba B los dataframes de eventos y de usuarios."
   ]
  },
  {
   "cell_type": "code",
   "execution_count": 101,
   "metadata": {},
   "outputs": [
    {
     "name": "stdout",
     "output_type": "stream",
     "text": [
      "Grupo de prueba 248:\n"
     ]
    },
    {
     "data": {
      "text/html": [
       "<div>\n",
       "<style scoped>\n",
       "    .dataframe tbody tr th:only-of-type {\n",
       "        vertical-align: middle;\n",
       "    }\n",
       "\n",
       "    .dataframe tbody tr th {\n",
       "        vertical-align: top;\n",
       "    }\n",
       "\n",
       "    .dataframe thead th {\n",
       "        text-align: right;\n",
       "    }\n",
       "</style>\n",
       "<table border=\"1\" class=\"dataframe\">\n",
       "  <thead>\n",
       "    <tr style=\"text-align: right;\">\n",
       "      <th></th>\n",
       "      <th>event_name</th>\n",
       "      <th>event_count</th>\n",
       "    </tr>\n",
       "  </thead>\n",
       "  <tbody>\n",
       "    <tr>\n",
       "      <th>0</th>\n",
       "      <td>MainScreenAppear</td>\n",
       "      <td>40740</td>\n",
       "    </tr>\n",
       "    <tr>\n",
       "      <th>1</th>\n",
       "      <td>OffersScreenAppear</td>\n",
       "      <td>16465</td>\n",
       "    </tr>\n",
       "    <tr>\n",
       "      <th>2</th>\n",
       "      <td>CartScreenAppear</td>\n",
       "      <td>15207</td>\n",
       "    </tr>\n",
       "    <tr>\n",
       "      <th>3</th>\n",
       "      <td>PaymentScreenSuccessful</td>\n",
       "      <td>12110</td>\n",
       "    </tr>\n",
       "    <tr>\n",
       "      <th>4</th>\n",
       "      <td>Tutorial</td>\n",
       "      <td>353</td>\n",
       "    </tr>\n",
       "  </tbody>\n",
       "</table>\n",
       "</div>"
      ],
      "text/plain": [
       "                event_name  event_count\n",
       "0         MainScreenAppear        40740\n",
       "1       OffersScreenAppear        16465\n",
       "2         CartScreenAppear        15207\n",
       "3  PaymentScreenSuccessful        12110\n",
       "4                 Tutorial          353"
      ]
     },
     "metadata": {},
     "output_type": "display_data"
    },
    {
     "name": "stdout",
     "output_type": "stream",
     "text": [
      "\n"
     ]
    },
    {
     "data": {
      "text/html": [
       "<div>\n",
       "<style scoped>\n",
       "    .dataframe tbody tr th:only-of-type {\n",
       "        vertical-align: middle;\n",
       "    }\n",
       "\n",
       "    .dataframe tbody tr th {\n",
       "        vertical-align: top;\n",
       "    }\n",
       "\n",
       "    .dataframe thead th {\n",
       "        text-align: right;\n",
       "    }\n",
       "</style>\n",
       "<table border=\"1\" class=\"dataframe\">\n",
       "  <thead>\n",
       "    <tr style=\"text-align: right;\">\n",
       "      <th></th>\n",
       "      <th>event_name</th>\n",
       "      <th>users_count</th>\n",
       "      <th>proportion</th>\n",
       "    </tr>\n",
       "  </thead>\n",
       "  <tbody>\n",
       "    <tr>\n",
       "      <th>0</th>\n",
       "      <td>MainScreenAppear</td>\n",
       "      <td>2494</td>\n",
       "      <td>0.983051</td>\n",
       "    </tr>\n",
       "    <tr>\n",
       "      <th>1</th>\n",
       "      <td>OffersScreenAppear</td>\n",
       "      <td>1531</td>\n",
       "      <td>0.603469</td>\n",
       "    </tr>\n",
       "    <tr>\n",
       "      <th>2</th>\n",
       "      <td>CartScreenAppear</td>\n",
       "      <td>1231</td>\n",
       "      <td>0.485219</td>\n",
       "    </tr>\n",
       "    <tr>\n",
       "      <th>3</th>\n",
       "      <td>PaymentScreenSuccessful</td>\n",
       "      <td>1182</td>\n",
       "      <td>0.465905</td>\n",
       "    </tr>\n",
       "    <tr>\n",
       "      <th>4</th>\n",
       "      <td>Tutorial</td>\n",
       "      <td>281</td>\n",
       "      <td>0.110761</td>\n",
       "    </tr>\n",
       "  </tbody>\n",
       "</table>\n",
       "</div>"
      ],
      "text/plain": [
       "                event_name  users_count  proportion\n",
       "0         MainScreenAppear         2494    0.983051\n",
       "1       OffersScreenAppear         1531    0.603469\n",
       "2         CartScreenAppear         1231    0.485219\n",
       "3  PaymentScreenSuccessful         1182    0.465905\n",
       "4                 Tutorial          281    0.110761"
      ]
     },
     "metadata": {},
     "output_type": "display_data"
    }
   ],
   "source": [
    "#Dataframe con el conteo de registros de eventos\n",
    "group_248_events = group_248.groupby('event_name').agg({'user_id':'count'}).sort_values(by='user_id', ascending=False).reset_index()\n",
    "group_248_events.columns = ['event_name', 'event_count']\n",
    "print('Grupo de prueba 248:')\n",
    "display(group_248_events)\n",
    "\n",
    "print()\n",
    "\n",
    "#Dataframe con el conteo de usuarios por evento y proporciones\n",
    "group_248_users = group_248.groupby('event_name').agg({'user_id':'nunique'}).sort_values(by='user_id', ascending=False).reset_index()\n",
    "group_248_users.columns = ['event_name', 'users_count']\n",
    "group_248_users['proportion'] = group_248_users['users_count'] / group_248['user_id'].nunique()\n",
    "display(group_248_users)"
   ]
  },
  {
   "cell_type": "markdown",
   "metadata": {},
   "source": [
    "Para visualizar en forma gráfica las proporciones para cada grupo, se representa en un diagrama a continuación las proporciones de usuarios que realizaron cada evento para cada grupo de control y el grupo de prueba. Para esto, se unifica en un único dataframe las proporciones de usuarios de cada grupo para cada evento."
   ]
  },
  {
   "cell_type": "code",
   "execution_count": 102,
   "metadata": {},
   "outputs": [
    {
     "data": {
      "image/png": "[encoded data removed]",
      "text/plain": [
       "<Figure size 1000x600 with 1 Axes>"
      ]
     },
     "metadata": {},
     "output_type": "display_data"
    }
   ],
   "source": [
    "#Creo un dataframe concatenado con los datos de las proporciones a los fines de obtener el gráfico deseado\n",
    "df1 = group_246_users[['event_name', 'proportion']].copy()\n",
    "df2 = group_247_users[['event_name', 'proportion']].copy()\n",
    "df3 = group_248_users[['event_name', 'proportion']].copy()\n",
    "\n",
    "df1['group'] = 'Group 246'\n",
    "df2['group'] = 'Group 247'\n",
    "df3['group'] = 'Group 248'\n",
    "\n",
    "groups_concat = pd.concat([df1, df2, df3])\n",
    "\n",
    "#Elaboro un gráfico de barras para las proporciones de cada grupo, por eventos\n",
    "plt.figure(figsize=(10, 6))\n",
    "sns.barplot(x='event_name', y='proportion', data=groups_concat.query('~(event_name == \"Tutorial\")'), palette='rainbow', hue='group', legend=True)\n",
    "plt.title('Proporción de usuarios/registros de eventos para cada tipo de evento')\n",
    "plt.xlabel('Nombre del evento')\n",
    "plt.ylabel('Proporción de usuarios')\n",
    "plt.xticks(rotation=90)\n",
    "sns.set_style('dark')"
   ]
  },
  {
   "cell_type": "markdown",
   "metadata": {},
   "source": [
    "A continuación, se realizarán las pruebas de las hipótesis de diferencia estadísticamente significativa para las proporciones de usuarios por cada evento."
   ]
  },
  {
   "cell_type": "code",
   "execution_count": 103,
   "metadata": {},
   "outputs": [
    {
     "name": "stdout",
     "output_type": "stream",
     "text": [
      "Pruebas 248 vs 246:\n",
      "\n",
      "Prueba de hipótesis para el evento MainScreenAppear:\n",
      "p-value:  0.34705881021236484\n",
      "No se pudo rechazar la hipótesis nula: no hay razón para pensar que las proporciones son diferentes\n",
      "\n",
      "Prueba de hipótesis para el evento OffersScreenAppear:\n",
      "p-value:  0.20836205402738917\n",
      "No se pudo rechazar la hipótesis nula: no hay razón para pensar que las proporciones son diferentes\n",
      "\n",
      "Prueba de hipótesis para el evento CartScreenAppear:\n",
      "p-value:  0.08328412977507749\n",
      "No se pudo rechazar la hipótesis nula: no hay razón para pensar que las proporciones son diferentes\n",
      "\n",
      "Prueba de hipótesis para el evento PaymentScreenSuccessful:\n",
      "p-value:  0.22269358994682742\n",
      "No se pudo rechazar la hipótesis nula: no hay razón para pensar que las proporciones son diferentes\n",
      "\n",
      "Prueba de hipótesis para el evento Tutorial:\n",
      "p-value:  0.8964489622133207\n",
      "No se pudo rechazar la hipótesis nula: no hay razón para pensar que las proporciones son diferentes\n"
     ]
    }
   ],
   "source": [
    "print('Pruebas 248 vs 246:')\n",
    "print()\n",
    "print(f'Prueba de hipótesis para el evento {event_1}:')\n",
    "test_hyp_proportion(group_248_users, group_248, group_246_users, group_246, event_1, alpha)\n",
    "print()\n",
    "print(f'Prueba de hipótesis para el evento {event_2}:')\n",
    "test_hyp_proportion(group_248_users, group_248, group_246_users, group_246, event_2, alpha)\n",
    "print()\n",
    "print(f'Prueba de hipótesis para el evento {event_3}:')\n",
    "test_hyp_proportion(group_248_users, group_248, group_246_users, group_246, event_3, alpha)\n",
    "print()\n",
    "print(f'Prueba de hipótesis para el evento {event_4}:')\n",
    "test_hyp_proportion(group_248_users, group_248, group_246_users, group_246, event_4, alpha)\n",
    "print()\n",
    "print(f'Prueba de hipótesis para el evento {event_5}:')\n",
    "test_hyp_proportion(group_248_users, group_248, group_246_users, group_246, event_5, alpha)"
   ]
  },
  {
   "cell_type": "code",
   "execution_count": 104,
   "metadata": {},
   "outputs": [
    {
     "name": "stdout",
     "output_type": "stream",
     "text": [
      "Pruebas 248 vs 247:\n",
      "\n",
      "Prueba de hipótesis para el evento MainScreenAppear:\n",
      "p-value:  0.6001661582453706\n",
      "No se pudo rechazar la hipótesis nula: no hay razón para pensar que las proporciones son diferentes\n",
      "\n",
      "Prueba de hipótesis para el evento OffersScreenAppear:\n",
      "p-value:  0.8835956656016957\n",
      "No se pudo rechazar la hipótesis nula: no hay razón para pensar que las proporciones son diferentes\n",
      "\n",
      "Prueba de hipótesis para el evento CartScreenAppear:\n",
      "p-value:  0.6169517476996997\n",
      "No se pudo rechazar la hipótesis nula: no hay razón para pensar que las proporciones son diferentes\n",
      "\n",
      "Prueba de hipótesis para el evento PaymentScreenSuccessful:\n",
      "p-value:  0.6775413642906454\n",
      "No se pudo rechazar la hipótesis nula: no hay razón para pensar que las proporciones son diferentes\n",
      "\n",
      "Prueba de hipótesis para el evento Tutorial:\n",
      "p-value:  0.8151967015119994\n",
      "No se pudo rechazar la hipótesis nula: no hay razón para pensar que las proporciones son diferentes\n"
     ]
    }
   ],
   "source": [
    "print('Pruebas 248 vs 247:')\n",
    "print()\n",
    "print(f'Prueba de hipótesis para el evento {event_1}:')\n",
    "test_hyp_proportion(group_248_users, group_248, group_247_users, group_247, event_1, alpha)\n",
    "print()\n",
    "print(f'Prueba de hipótesis para el evento {event_2}:')\n",
    "test_hyp_proportion(group_248_users, group_248, group_247_users, group_247, event_2, alpha)\n",
    "print()\n",
    "print(f'Prueba de hipótesis para el evento {event_3}:')\n",
    "test_hyp_proportion(group_248_users, group_248, group_247_users, group_247, event_3, alpha)\n",
    "print()\n",
    "print(f'Prueba de hipótesis para el evento {event_4}:')\n",
    "test_hyp_proportion(group_248_users, group_248, group_247_users, group_247, event_4, alpha)\n",
    "print()\n",
    "print(f'Prueba de hipótesis para el evento {event_5}:')\n",
    "test_hyp_proportion(group_248_users, group_248, group_247_users, group_247, event_5, alpha)"
   ]
  },
  {
   "cell_type": "markdown",
   "metadata": {},
   "source": [
    "Para las siguientes pruebas, donde se combinan los grupos 246 y 247, se creará un nuevo dataframe combinando ambos grupos de control."
   ]
  },
  {
   "cell_type": "code",
   "execution_count": 105,
   "metadata": {},
   "outputs": [
    {
     "data": {
      "text/html": [
       "<div>\n",
       "<style scoped>\n",
       "    .dataframe tbody tr th:only-of-type {\n",
       "        vertical-align: middle;\n",
       "    }\n",
       "\n",
       "    .dataframe tbody tr th {\n",
       "        vertical-align: top;\n",
       "    }\n",
       "\n",
       "    .dataframe thead th {\n",
       "        text-align: right;\n",
       "    }\n",
       "</style>\n",
       "<table border=\"1\" class=\"dataframe\">\n",
       "  <thead>\n",
       "    <tr style=\"text-align: right;\">\n",
       "      <th></th>\n",
       "      <th>event_name</th>\n",
       "      <th>users_count</th>\n",
       "      <th>proportion</th>\n",
       "    </tr>\n",
       "  </thead>\n",
       "  <tbody>\n",
       "    <tr>\n",
       "      <th>0</th>\n",
       "      <td>MainScreenAppear</td>\n",
       "      <td>4929</td>\n",
       "      <td>0.985603</td>\n",
       "    </tr>\n",
       "    <tr>\n",
       "      <th>1</th>\n",
       "      <td>OffersScreenAppear</td>\n",
       "      <td>3066</td>\n",
       "      <td>0.613077</td>\n",
       "    </tr>\n",
       "    <tr>\n",
       "      <th>2</th>\n",
       "      <td>CartScreenAppear</td>\n",
       "      <td>2505</td>\n",
       "      <td>0.500900</td>\n",
       "    </tr>\n",
       "    <tr>\n",
       "      <th>3</th>\n",
       "      <td>PaymentScreenSuccessful</td>\n",
       "      <td>2358</td>\n",
       "      <td>0.471506</td>\n",
       "    </tr>\n",
       "    <tr>\n",
       "      <th>4</th>\n",
       "      <td>Tutorial</td>\n",
       "      <td>562</td>\n",
       "      <td>0.112378</td>\n",
       "    </tr>\n",
       "  </tbody>\n",
       "</table>\n",
       "</div>"
      ],
      "text/plain": [
       "                event_name  users_count  proportion\n",
       "0         MainScreenAppear         4929    0.985603\n",
       "1       OffersScreenAppear         3066    0.613077\n",
       "2         CartScreenAppear         2505    0.500900\n",
       "3  PaymentScreenSuccessful         2358    0.471506\n",
       "4                 Tutorial          562    0.112378"
      ]
     },
     "metadata": {},
     "output_type": "display_data"
    }
   ],
   "source": [
    "group_control = df_new_dates.query('(group == 246)|(group == 247)')\n",
    "\n",
    "group_control_users = group_control.groupby('event_name').agg({'user_id':'nunique'}).sort_values(by='user_id', ascending=False).reset_index()\n",
    "group_control_users.columns = ['event_name', 'users_count']\n",
    "group_control_users['proportion'] = group_control_users['users_count'] / group_control['user_id'].nunique()\n",
    "display(group_control_users)\n"
   ]
  },
  {
   "cell_type": "code",
   "execution_count": 106,
   "metadata": {},
   "outputs": [
    {
     "name": "stdout",
     "output_type": "stream",
     "text": [
      "Pruebas 248 vs (246 + 247):\n",
      "\n",
      "Prueba de hipótesis para el evento MainScreenAppear:\n",
      "p-value:  0.39298914928006035\n",
      "No se pudo rechazar la hipótesis nula: no hay razón para pensar que las proporciones son diferentes\n",
      "\n",
      "Prueba de hipótesis para el evento OffersScreenAppear:\n",
      "p-value:  0.418998284007599\n",
      "No se pudo rechazar la hipótesis nula: no hay razón para pensar que las proporciones son diferentes\n",
      "\n",
      "Prueba de hipótesis para el evento CartScreenAppear:\n",
      "p-value:  0.19819340844527744\n",
      "No se pudo rechazar la hipótesis nula: no hay razón para pensar que las proporciones son diferentes\n",
      "\n",
      "Prueba de hipótesis para el evento PaymentScreenSuccessful:\n",
      "p-value:  0.6452057673098244\n",
      "No se pudo rechazar la hipótesis nula: no hay razón para pensar que las proporciones son diferentes\n",
      "\n",
      "Prueba de hipótesis para el evento Tutorial:\n",
      "p-value:  0.8333049080125807\n",
      "No se pudo rechazar la hipótesis nula: no hay razón para pensar que las proporciones son diferentes\n"
     ]
    }
   ],
   "source": [
    "print('Pruebas 248 vs (246 + 247):')\n",
    "print()\n",
    "print(f'Prueba de hipótesis para el evento {event_1}:')\n",
    "test_hyp_proportion(group_248_users, group_248, group_control_users, group_control, event_1, alpha)\n",
    "print()\n",
    "print(f'Prueba de hipótesis para el evento {event_2}:')\n",
    "test_hyp_proportion(group_248_users, group_248, group_control_users, group_control, event_2, alpha)\n",
    "print()\n",
    "print(f'Prueba de hipótesis para el evento {event_3}:')\n",
    "test_hyp_proportion(group_248_users, group_248, group_control_users, group_control, event_3, alpha)\n",
    "print()\n",
    "print(f'Prueba de hipótesis para el evento {event_4}:')\n",
    "test_hyp_proportion(group_248_users, group_248, group_control_users, group_control, event_4, alpha)\n",
    "print()\n",
    "print(f'Prueba de hipótesis para el evento {event_5}:')\n",
    "test_hyp_proportion(group_248_users, group_248, group_control_users, group_control, event_5, alpha)"
   ]
  },
  {
   "cell_type": "markdown",
   "metadata": {},
   "source": [
    "Conclusiones del experimento:  \n",
    "Se observa que las proporciones de usuarios por cada evento en las tres pruebas de hipótesis realizadas no presentan diferencias estadísticamente significativas, esto implicaría que el cambio propuesto para el grupo de prueba B no cambió las conversiones a cada etapa de los usuarios."
   ]
  },
  {
   "cell_type": "markdown",
   "metadata": {},
   "source": [
    "### 5.5 Nivel de significación"
   ]
  },
  {
   "cell_type": "markdown",
   "metadata": {},
   "source": [
    "Para las pruebas de hipótesis realizadas anteriormente se utilizó un nivel de significancia estadística de 5% (0.05), y se realizaron en total 3 pruebas de hipótesis (3 para cada uno de los 5 eventos)."
   ]
  },
  {
   "cell_type": "code",
   "execution_count": 107,
   "metadata": {},
   "outputs": [
    {
     "name": "stdout",
     "output_type": "stream",
     "text": [
      "La probabilidad de un falso positivo en las pruebas es: 14.262500000000012 %\n"
     ]
    }
   ],
   "source": [
    "n_test = 3\n",
    "print('La probabilidad de un falso positivo en las pruebas es:', (1 - (1 - alpha)**n_test)*100, '%')"
   ]
  },
  {
   "cell_type": "markdown",
   "metadata": {},
   "source": [
    "La probabilidad de tener un falso positivo en las pruebas de hipótesis es del 14.26%.  \n",
    "Al tratarse de múltiples pruebas de hipótesis, el nivel de significancia se debe corregir, para lo cual se adopta a continuación la corrección de Bonferroni, por ser la de mayor simplicidad:"
   ]
  },
  {
   "cell_type": "code",
   "execution_count": 108,
   "metadata": {},
   "outputs": [
    {
     "data": {
      "text/plain": [
       "0.016666666666666666"
      ]
     },
     "execution_count": 108,
     "metadata": {},
     "output_type": "execute_result"
    }
   ],
   "source": [
    "alpha_fix = alpha / n_test\n",
    "alpha_fix"
   ]
  },
  {
   "cell_type": "markdown",
   "metadata": {},
   "source": [
    "El nivel de significancia corregido quedaría en 1.6%, y dado que los p-value de todas las pruebas dieron superiores al 5%, la corrección del nivel de significancia no cambiaría los resultados de las pruebas de hipótesis."
   ]
  },
  {
   "cell_type": "markdown",
   "metadata": {},
   "source": [
    "## 6. Conclusiones"
   ]
  },
  {
   "cell_type": "markdown",
   "metadata": {},
   "source": [
    "Se evaluó el comportamiento de los usuarios en la aplicación de una empresa de venta de productos alimenticios. En el análisis, se estudiaron dos aspectos:  \n",
    "* Embudo de ventas, donde se evaluó el comportamiento en general de todos los usuarios, en base a un camino lógico que termina en el pago exitoso de la compra.  \n",
    "* Pruba sobre un experimento A/A/B con el cambio de las fuentes de la aplicación, en donde se analizó si se vio modificado el comportamiento de los grupos de usuarios que participaron de uno u otro grupo de prueba.  \n",
    "\n",
    "Conclusiones:  \n",
    "* Embudo de ventas:  \n",
    "    * Se observa que, del 100% de usuarios que comienzan con el menú principal de la aplicación (MainScreenAppear), solamente el **6.2%** concluye el proceso de compra y pago.  \n",
    "    * Asimismo se observa que la etapa en donde más se pierden usuarios es justamente en la correspondiente al pago exitoso (25.7% de la etapa previa), y seguida por la etapa de visualización del carrito (42.4% de la etapa anterior). Esto puede indicar que existe algo en la página de pago que desmotiva a los usuarios a terminar con el proceso de compra.  \n",
    "\n",
    "* Análisis del experimento:  \n",
    "    * Se observa que no parece existir una diferencia estadísticamente significativa entre las proporciones de los usuarios en los grupos de control, ni en general, ni para cada evento, por lo que se considera que los mismos se dividieron correctamente.  \n",
    "    * Se observa por las pruebas estadísticas que el grupo de prueba no presenta diferencias estadísticamente significativas en las proporciones de usuarios, respecto a los grupos de control, lo cual implicaría que el cambio propuesto en la aplicación para el grupo de prueba no modificó significativamente las conversiones a cada etapa de los usuarios."
   ]
  }
 ],
 "metadata": {
  "kernelspec": {
   "display_name": "venv",
   "language": "python",
   "name": "python3"
  },
  "language_info": {
   "codemirror_mode": {
    "name": "ipython",
    "version": 3
   },
   "file_extension": ".py",
   "mimetype": "text/x-python",
   "name": "python",
   "nbconvert_exporter": "python",
   "pygments_lexer": "ipython3",
   "version": "3.12.5"
  }
 },
 "nbformat": 4,
 "nbformat_minor": 2
}
